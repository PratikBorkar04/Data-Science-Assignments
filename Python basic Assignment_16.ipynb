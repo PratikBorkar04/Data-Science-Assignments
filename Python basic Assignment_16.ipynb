{
 "cells": [
  {
   "cell_type": "code",
   "execution_count": 10,
   "id": "684d61f0",
   "metadata": {},
   "outputs": [
    {
     "name": "stdout",
     "output_type": "stream",
     "text": [
      "Enter your birth year :- 1980\n",
      "[1980, 1981, 1982, 1983, 1984, 1985]\n"
     ]
    }
   ],
   "source": [
    "'''Q.1\n",
    "year_list = []\n",
    "a = int(input(\"Enter your birth year :- \"))\n",
    "year_list.append(a)\n",
    "for i in range(1,6):\n",
    "    a = a + 1\n",
    "    year_list.append(a)\n",
    "print(year_list)'''"
   ]
  },
  {
   "cell_type": "code",
   "execution_count": 11,
   "id": "4a7fb21c",
   "metadata": {},
   "outputs": [
    {
     "data": {
      "text/plain": [
       "1982"
      ]
     },
     "execution_count": 11,
     "metadata": {},
     "output_type": "execute_result"
    }
   ],
   "source": [
    "'''Q.2\n",
    "    year_list[2]\n",
    "'''"
   ]
  },
  {
   "cell_type": "code",
   "execution_count": 13,
   "id": "9dc514cc",
   "metadata": {},
   "outputs": [
    {
     "data": {
      "text/plain": [
       "1985"
      ]
     },
     "execution_count": 13,
     "metadata": {},
     "output_type": "execute_result"
    }
   ],
   "source": [
    "'''Q.3\n",
    "    max(year_list)\n",
    "'''"
   ]
  },
  {
   "cell_type": "code",
   "execution_count": 14,
   "id": "f49cdf8e",
   "metadata": {},
   "outputs": [],
   "source": [
    "'''Q.4\n",
    "    things = [\"mozzarella\",\"cinderella\",\"salmonella\"]\n",
    "''''"
   ]
  },
  {
   "cell_type": "code",
   "execution_count": 12,
   "id": "33de28a0",
   "metadata": {},
   "outputs": [
    {
     "name": "stdout",
     "output_type": "stream",
     "text": [
      "['Salmonella']\n"
     ]
    }
   ],
   "source": [
    "'''Q.5\n",
    "    things = [\"mozzarella\",\"cinderella\",\"salmonella\"]\n",
    "    person = []\n",
    "    a = things[2].capitalize()\n",
    "    person.append(a)\n",
    "    print(person)\n",
    "'''\n",
    "    # Yes it just captatilze the first letter"
   ]
  },
  {
   "cell_type": "code",
   "execution_count": 21,
   "id": "2af5e8e3",
   "metadata": {},
   "outputs": [],
   "source": [
    "'''Q.6\n",
    "    surprise = [\"Groucho\",\"chico\",\"Harpo\"]\n",
    "'''"
   ]
  },
  {
   "cell_type": "code",
   "execution_count": 13,
   "id": "424346e1",
   "metadata": {},
   "outputs": [
    {
     "name": "stdout",
     "output_type": "stream",
     "text": [
      "harpo\n",
      "oprah\n",
      "Oprah\n"
     ]
    }
   ],
   "source": [
    "'''Q.7\n",
    "    surprise = [\"Groucho\",\"chico\",\"Harpo\"]\n",
    "    ls = []\n",
    "    #Lower case last element\n",
    "    a = surprise[2]\n",
    "    b = a.lower()\n",
    "    print(b)\n",
    "\n",
    "    ls.append(b)\n",
    "    # Reverse\n",
    "    for i in ls:\n",
    "        c = i[::-1]\n",
    "        #Capitalize\n",
    "        d = c.capitalize()\n",
    "    print(c)\n",
    "    print(d)'''"
   ]
  },
  {
   "cell_type": "code",
   "execution_count": 14,
   "id": "f3e38e22",
   "metadata": {},
   "outputs": [],
   "source": [
    "'''Q.8\n",
    "    e2f = {\"dog\" : \"chien\",\"cat\" : \"chat\",\"walrus\" : \"morse\"}\n",
    "'''"
   ]
  },
  {
   "cell_type": "code",
   "execution_count": 16,
   "id": "bf35f667",
   "metadata": {},
   "outputs": [
    {
     "name": "stdout",
     "output_type": "stream",
     "text": [
      "morse\n"
     ]
    }
   ],
   "source": [
    "'''Q.9\n",
    "    print(e2f[\"walrus\"])\n",
    "'''"
   ]
  },
  {
   "cell_type": "code",
   "execution_count": 19,
   "id": "4e76a029",
   "metadata": {},
   "outputs": [
    {
     "name": "stdout",
     "output_type": "stream",
     "text": [
      "dict_items([('dog', 'chien'), ('cat', 'chat'), ('walrus', 'morse')])\n"
     ]
    }
   ],
   "source": [
    "'''Q.10\n",
    "    f2e = e2f.items()\n",
    "    print(f2e)\n",
    "'''"
   ]
  },
  {
   "cell_type": "code",
   "execution_count": 28,
   "id": "a7b3d987",
   "metadata": {},
   "outputs": [
    {
     "name": "stdout",
     "output_type": "stream",
     "text": [
      "dog\n"
     ]
    }
   ],
   "source": [
    "'''Q.11\n",
    "    e2f = {'dog': 'chien', 'cat': 'chat', 'walrus': 'morse'}\n",
    "    f2e = {}\n",
    "    for i, j in e2f.items():\n",
    "        f2e[j] = i\n",
    "    print(f2e[\"chien\"])\n",
    "'''"
   ]
  },
  {
   "cell_type": "code",
   "execution_count": 50,
   "id": "723b00fd",
   "metadata": {},
   "outputs": [
    {
     "name": "stdout",
     "output_type": "stream",
     "text": [
      "dict_keys(['dog', 'cat', 'walrus'])\n"
     ]
    }
   ],
   "source": [
    "'''Q.12\n",
    "    print(e2f.keys())\n",
    "'''"
   ]
  },
  {
   "cell_type": "code",
   "execution_count": 49,
   "id": "48269d87",
   "metadata": {},
   "outputs": [],
   "source": [
    "'''Q.13\n",
    "    life = {\"animals\":{\"cats\":[\"Henri\",\"Grumpy\",\"Lucy\"],\"octopi\":{},\"emus\":{}},\"plants\":{},\"other\":{}}\n",
    "'''"
   ]
  },
  {
   "cell_type": "code",
   "execution_count": 40,
   "id": "95fe0572",
   "metadata": {},
   "outputs": [
    {
     "name": "stdout",
     "output_type": "stream",
     "text": [
      "dict_keys(['animals', 'plants', 'other'])\n"
     ]
    }
   ],
   "source": [
    "'''Q.14\n",
    "    print(life.keys())\n",
    "'''"
   ]
  },
  {
   "cell_type": "code",
   "execution_count": 41,
   "id": "016bfa72",
   "metadata": {},
   "outputs": [
    {
     "name": "stdout",
     "output_type": "stream",
     "text": [
      "{'cats': ['Henri', 'Grumpy', 'Lucy'], 'octopi': {}, 'emus': {}}\n"
     ]
    }
   ],
   "source": [
    "'''Q.15\n",
    "    print(life[\"animals\"])\n",
    "'''"
   ]
  },
  {
   "cell_type": "code",
   "execution_count": 43,
   "id": "a1e870f9",
   "metadata": {},
   "outputs": [
    {
     "name": "stdout",
     "output_type": "stream",
     "text": [
      "['Henri', 'Grumpy', 'Lucy']\n"
     ]
    }
   ],
   "source": [
    "'''Q.16\n",
    "    print(life[\"animals\"][\"cats\"])\n",
    "'''"
   ]
  },
  {
   "cell_type": "code",
   "execution_count": null,
   "id": "cbcb406d",
   "metadata": {},
   "outputs": [],
   "source": []
  }
 ],
 "metadata": {
  "kernelspec": {
   "display_name": "Python 3",
   "language": "python",
   "name": "python3"
  },
  "language_info": {
   "codemirror_mode": {
    "name": "ipython",
    "version": 3
   },
   "file_extension": ".py",
   "mimetype": "text/x-python",
   "name": "python",
   "nbconvert_exporter": "python",
   "pygments_lexer": "ipython3",
   "version": "3.8.8"
  }
 },
 "nbformat": 4,
 "nbformat_minor": 5
}
