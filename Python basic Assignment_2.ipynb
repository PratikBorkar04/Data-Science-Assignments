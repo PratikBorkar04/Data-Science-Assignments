{
 "cells": [
  {
   "cell_type": "code",
   "execution_count": null,
   "id": "5968a7a3",
   "metadata": {},
   "outputs": [],
   "source": [
    "'''Q.1\n",
    "Two values of boolean data type:-\n",
    "    1.True \n",
    "        Example :- 4 > 2 = True \n",
    "    2.False\n",
    "        Example :- 4 < 2 = False   \n",
    "'''"
   ]
  },
  {
   "cell_type": "code",
   "execution_count": null,
   "id": "a4ce58d1",
   "metadata": {},
   "outputs": [],
   "source": [
    "'''Q.2\n",
    "Three types of boolean operators are:-\n",
    "    1. AND\n",
    "    2. OR\n",
    "    3. NOT\n",
    "'''"
   ]
  },
  {
   "cell_type": "code",
   "execution_count": null,
   "id": "e2e642e2",
   "metadata": {},
   "outputs": [],
   "source": [
    "'''Q.3\n",
    "1.AND:-\n",
    "    Operator A Operator B Logical AND \n",
    "    True  True  True\n",
    "    True  False False\n",
    "    False True  False\n",
    "    False False False\n",
    "2.OR:-\n",
    "    Operator A Operator B Logical OR Result\n",
    "    True  True  True\n",
    "    True  False True\n",
    "    False True  True\n",
    "    False False False\n",
    "3.NOT:-    \n",
    "    Operator A Logical NOT Result\n",
    "    True False\n",
    "    False True\n",
    "'''"
   ]
  },
  {
   "cell_type": "code",
   "execution_count": null,
   "id": "0e89cd40",
   "metadata": {},
   "outputs": [],
   "source": [
    "'''Q.4\n",
    "1. (5 > 4) and (3 == 5) = False\n",
    "2. not (5 > 4) = False\n",
    "3. (5 > 4) or (3 == 5) = True\n",
    "4. not((5 > 4) and (3 == 5)) = False\n",
    "5. (True and True) and True == False = False\n",
    "6. (not False) or (not True) = True\n",
    "'''"
   ]
  },
  {
   "cell_type": "code",
   "execution_count": null,
   "id": "87edd1b0",
   "metadata": {},
   "outputs": [],
   "source": [
    "'''Q.5\n",
    "Types of operators :- \n",
    "    1.equal to == \n",
    "    2.not equal to !=\n",
    "    3.greater than >\n",
    "    4.greater than or equal to >=\n",
    "    5.less than <\n",
    "    6.less than or equal to. <=\n",
    "'''"
   ]
  },
  {
   "cell_type": "code",
   "execution_count": null,
   "id": "da8e07be",
   "metadata": {},
   "outputs": [],
   "source": [
    "'''Q.6\n",
    "Assignment (=) :- used to assign the value on right side to the variable on the left\n",
    "    Example :- a = 5\n",
    "Equal to (==) :- checks whether two operands are equal or not and returns True / False\n",
    "    Example :- 5 == 5 --->True\n",
    "''' "
   ]
  },
  {
   "cell_type": "code",
   "execution_count": null,
   "id": "79894fa9",
   "metadata": {},
   "outputs": [],
   "source": [
    "'''Q.7\n",
    "spam = 0\n",
    "if spam == 10:\n",
    "    #1 block\n",
    "    print(\"eggs\")\n",
    "if spam > 5:\n",
    "    #2 block\n",
    "    print(\"bacon\")\n",
    "else:\n",
    "    #3 block\n",
    "    print(\"ham\")\n",
    "    print(\"spam\")\n",
    "    print(\"spam\")\n",
    "'''"
   ]
  },
  {
   "cell_type": "code",
   "execution_count": 3,
   "id": "b6413588",
   "metadata": {},
   "outputs": [
    {
     "name": "stdout",
     "output_type": "stream",
     "text": [
      "Enter the value4\n",
      "Greetings!\n"
     ]
    }
   ],
   "source": [
    "#Q.8\n",
    "spam = int(input(\"Enter the value :-\"))\n",
    "if spam == 1:\n",
    "    print(\"hello\")\n",
    "elif spam == 2:\n",
    "    print(\"Howdy\")\n",
    "else :\n",
    "    print(\"Greetings!\")"
   ]
  },
  {
   "cell_type": "code",
   "execution_count": null,
   "id": "923143b8",
   "metadata": {},
   "outputs": [],
   "source": [
    "'''Q.9\n",
    "Ans :- CTRL + C'''"
   ]
  },
  {
   "cell_type": "code",
   "execution_count": null,
   "id": "1c807390",
   "metadata": {},
   "outputs": [],
   "source": [
    "'''Q.10\n",
    "Break:- Break statement is used to bring the control out of the loop when some external condition is triggered.\n",
    "    Example:-\n",
    "        a = 10\n",
    "        while a < 20:\n",
    "            print(a)\n",
    "            if a == 15:\n",
    "                break\n",
    "            a = a +1\n",
    "\n",
    "continue:- statement is used to skip the rest of the code inside a loop for the current iteration only.\n",
    "    Example :-\n",
    "        for i in \"ineuron \":\n",
    "            if i == \"u\":\n",
    "                continue\n",
    "            print(i)\n",
    "'''"
   ]
  },
  {
   "cell_type": "code",
   "execution_count": null,
   "id": "c9c380db",
   "metadata": {},
   "outputs": [],
   "source": [
    "'''Q.11\n",
    "1)for i in range(10) :- range of 10 values \n",
    "2)for i in range(0,10):- range of 10 values where starting index is 0 and stop index is 10\n",
    "3)for i in range(0,10,1):- range of 10 values where starting index is 0 and stop index is 10 with increament of 1\n",
    "'''"
   ]
  },
  {
   "cell_type": "code",
   "execution_count": null,
   "id": "74a228c9",
   "metadata": {},
   "outputs": [],
   "source": [
    "#Q.12\n",
    "\n",
    "#1 for loop which prints number (1-10)\n",
    "for i in range(1,11):\n",
    "    print(i)\n",
    "    \n",
    "#2 while loop which prints number (1-10) \n",
    "a = 1\n",
    "while a <= 10:\n",
    "    print(a)\n",
    "    a = a + 1"
   ]
  },
  {
   "cell_type": "code",
   "execution_count": null,
   "id": "8df7129b",
   "metadata": {},
   "outputs": [],
   "source": [
    "#Q.13\n",
    "'''spam.bacon()'''"
   ]
  },
  {
   "cell_type": "code",
   "execution_count": null,
   "id": "983079e2",
   "metadata": {},
   "outputs": [],
   "source": []
  }
 ],
 "metadata": {
  "kernelspec": {
   "display_name": "Python 3",
   "language": "python",
   "name": "python3"
  },
  "language_info": {
   "codemirror_mode": {
    "name": "ipython",
    "version": 3
   },
   "file_extension": ".py",
   "mimetype": "text/x-python",
   "name": "python",
   "nbconvert_exporter": "python",
   "pygments_lexer": "ipython3",
   "version": "3.8.8"
  }
 },
 "nbformat": 4,
 "nbformat_minor": 5
}
