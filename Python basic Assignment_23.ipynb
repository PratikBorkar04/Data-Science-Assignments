{
 "cells": [
  {
   "cell_type": "code",
   "execution_count": 4,
   "id": "aac4ce49",
   "metadata": {},
   "outputs": [
    {
     "name": "stdout",
     "output_type": "stream",
     "text": [
      "1 2 8\n"
     ]
    }
   ],
   "source": [
    "'''Q.1\n",
    "    def func(a,b = 6,c = 8):\n",
    "        print(a,b,c)\n",
    "\n",
    "    func(1,2)\n",
    "    \n",
    "'''# 1 is assigned to a , b = 6 is replaced by 2"
   ]
  },
  {
   "cell_type": "code",
   "execution_count": 6,
   "id": "931fb2cd",
   "metadata": {},
   "outputs": [
    {
     "name": "stdout",
     "output_type": "stream",
     "text": [
      "1 2 3\n"
     ]
    }
   ],
   "source": [
    "'''Q.2\n",
    "    def func(a,b,c = 5):\n",
    "        print(a,b,c)\n",
    "\n",
    "    func(1,b = 2,c = 3)\n",
    "    \n",
    "'''# 1,2 is assigned to a,b resp. and  c = 5 is replaced by 3  "
   ]
  },
  {
   "cell_type": "code",
   "execution_count": 14,
   "id": "8192c368",
   "metadata": {},
   "outputs": [
    {
     "name": "stdout",
     "output_type": "stream",
     "text": [
      "1 (2, 3)\n"
     ]
    }
   ],
   "source": [
    "'''Q.3\n",
    "    def func(a,*pargs):\n",
    "        print(a,pargs)\n",
    "    \n",
    "    func(1,2,3)\n",
    "    \n",
    "'''# very 1st value is assigned to variable a and all values next to it are assigned to *pargs"
   ]
  },
  {
   "cell_type": "code",
   "execution_count": 15,
   "id": "fc2435d9",
   "metadata": {},
   "outputs": [
    {
     "name": "stdout",
     "output_type": "stream",
     "text": [
      "1 {'b': 2, 'c': 3}\n"
     ]
    }
   ],
   "source": [
    "'''Q.4\n",
    "    def func(a,**kargs):\n",
    "        print(a,kargs)\n",
    "\n",
    "    func(a = 1 , b = 2 , c = 3)\n",
    "\n",
    "'''# very 1st value is assigned to variable a and all values next to it are assigned to *kargs"
   ]
  },
  {
   "cell_type": "code",
   "execution_count": 18,
   "id": "e4ae903c",
   "metadata": {},
   "outputs": [
    {
     "name": "stdout",
     "output_type": "stream",
     "text": [
      "1 5 6 5\n"
     ]
    }
   ],
   "source": [
    "'''Q.5\n",
    "def func(a,b,c= 8,d = 5):\n",
    "        print(a,b,c,d)\n",
    "\n",
    "func(1,*(5,6))\n",
    "\n",
    "'''# very 1st value is assigned to variable a and due to *(5,6) 5 is assigned to b and c = 8 is replaced by 6 "
   ]
  },
  {
   "cell_type": "code",
   "execution_count": 27,
   "id": "464be837",
   "metadata": {},
   "outputs": [
    {
     "data": {
      "text/plain": [
       "(1, ['x'], {'a': 'y'})"
      ]
     },
     "execution_count": 27,
     "metadata": {},
     "output_type": "execute_result"
    }
   ],
   "source": [
    "'''Q.6\n",
    "def func(a,b,c):\n",
    "    a = 2 ; b[0] = 'x' ;c ['a'] = 'y'\n",
    "    \n",
    "l = 1; m = [1];n = {'a':0}\n",
    "\n",
    "func(l,m,n)\n",
    "\n",
    "l,m,n\n",
    "\n",
    "'''#  func(l,m,n) :- a , b , c is replaced by l , m , n resp.\n",
    "# a = 2 is replaced by l = 1\n",
    "# b[0] = 'x' and m = [1] ----> b == m , [m[0] = 1 , b[0] = 'x'] , Therefore m = 'x'\n",
    "# c['a'] = 'y' , n = {'a': 0} -----> c['a'] contains 'y' at 0 th index [ n = {'a': 'y'} ]"
   ]
  },
  {
   "cell_type": "code",
   "execution_count": null,
   "id": "e3927d17",
   "metadata": {},
   "outputs": [],
   "source": []
  }
 ],
 "metadata": {
  "kernelspec": {
   "display_name": "Python 3",
   "language": "python",
   "name": "python3"
  },
  "language_info": {
   "codemirror_mode": {
    "name": "ipython",
    "version": 3
   },
   "file_extension": ".py",
   "mimetype": "text/x-python",
   "name": "python",
   "nbconvert_exporter": "python",
   "pygments_lexer": "ipython3",
   "version": "3.8.8"
  }
 },
 "nbformat": 4,
 "nbformat_minor": 5
}
