{
 "cells": [
  {
   "cell_type": "code",
   "execution_count": 8,
   "id": "410c9edc",
   "metadata": {},
   "outputs": [
    {
     "name": "stdout",
     "output_type": "stream",
     "text": [
      "ineuron\n"
     ]
    }
   ],
   "source": [
    "'''Q.1\n",
    "    x = 'ineuron'\n",
    "    def func():\n",
    "        print(x)\n",
    "    func()\n",
    "'''\n",
    "# x is a global variable ,func() printing x variable."
   ]
  },
  {
   "cell_type": "code",
   "execution_count": 13,
   "id": "ae70f823",
   "metadata": {},
   "outputs": [
    {
     "name": "stdout",
     "output_type": "stream",
     "text": [
      "ineuron\n"
     ]
    }
   ],
   "source": [
    "'''Q.2\n",
    "    x = 'ineuron'\n",
    "    def func():\n",
    "        x = 'NI!'\n",
    "    func()\n",
    "    print(x)\n",
    "'''\n",
    "# x = 'NI!' due to local variable is only valid throught the func()"
   ]
  },
  {
   "cell_type": "code",
   "execution_count": 15,
   "id": "e04ce179",
   "metadata": {},
   "outputs": [
    {
     "name": "stdout",
     "output_type": "stream",
     "text": [
      "NI!\n",
      "ineuron\n"
     ]
    }
   ],
   "source": [
    "'''Q.3\n",
    "    x = 'ineuron'\n",
    "    def func():\n",
    "        x = 'NI!'\n",
    "        print(x)\n",
    "    func()\n",
    "    print(x)\n",
    "'''\n",
    "# x = 'NI!' due to local variable is only valid throught the func()"
   ]
  },
  {
   "cell_type": "code",
   "execution_count": 17,
   "id": "3743560d",
   "metadata": {},
   "outputs": [
    {
     "name": "stdout",
     "output_type": "stream",
     "text": [
      "NI!\n",
      "NI!\n"
     ]
    }
   ],
   "source": [
    "'''Q.4\n",
    "    x = 'ineuron'\n",
    "    def func():\n",
    "        global x\n",
    "        x = 'NI!'\n",
    "        print(x)\n",
    "    func()\n",
    "    print(x)\n",
    "'''\n",
    "\n",
    "# due to global keyword 'ineuron' is globally replaced by 'NI!'"
   ]
  },
  {
   "cell_type": "code",
   "execution_count": 53,
   "id": "6aedf856",
   "metadata": {},
   "outputs": [
    {
     "name": "stdout",
     "output_type": "stream",
     "text": [
      "NI!\n"
     ]
    },
    {
     "data": {
      "text/plain": [
       "'NI!'"
      ]
     },
     "execution_count": 53,
     "metadata": {},
     "output_type": "execute_result"
    }
   ],
   "source": [
    "'''Q.5\n",
    "    x = 'ineuron'\n",
    "    def func():\n",
    "        global x\n",
    "        x = 'NI!'\n",
    "        def nested():\n",
    "            print(x)\n",
    "        nested()\n",
    "    func()\n",
    "    x\n",
    "'''# x = 'NI!' is a global variable,we can access it throught the function "
   ]
  },
  {
   "cell_type": "code",
   "execution_count": 57,
   "id": "c71733c3",
   "metadata": {},
   "outputs": [
    {
     "name": "stdout",
     "output_type": "stream",
     "text": [
      "NI\n"
     ]
    }
   ],
   "source": [
    "'''Q.6\n",
    "def func():\n",
    "    x = 'NI'\n",
    "    def nested():\n",
    "        nonlocal x\n",
    "        x = 'spam'\n",
    "    nested()\n",
    "    print(x)\n",
    "\n",
    "func()\n",
    "'''# he nonlocal is similar to the global and used to work with a variable inside the nested function"
   ]
  },
  {
   "cell_type": "code",
   "execution_count": null,
   "id": "dcbbb895",
   "metadata": {},
   "outputs": [],
   "source": []
  }
 ],
 "metadata": {
  "kernelspec": {
   "display_name": "Python 3",
   "language": "python",
   "name": "python3"
  },
  "language_info": {
   "codemirror_mode": {
    "name": "ipython",
    "version": 3
   },
   "file_extension": ".py",
   "mimetype": "text/x-python",
   "name": "python",
   "nbconvert_exporter": "python",
   "pygments_lexer": "ipython3",
   "version": "3.8.8"
  }
 },
 "nbformat": 4,
 "nbformat_minor": 5
}
