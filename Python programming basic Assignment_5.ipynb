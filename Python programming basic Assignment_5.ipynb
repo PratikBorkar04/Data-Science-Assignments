{
 "cells": [
  {
   "cell_type": "code",
   "execution_count": 1,
   "id": "96135d7d",
   "metadata": {},
   "outputs": [
    {
     "name": "stdout",
     "output_type": "stream",
     "text": [
      "Enter a number :- 5\n",
      "Enter a number :- 48\n",
      "LCM of 5 & 48 is:- 240\n"
     ]
    }
   ],
   "source": [
    "'''Q.1 Write a Python Program to Find LCM\n",
    "\n",
    "    from input_user import input_number\n",
    "\n",
    "    class test:\n",
    "        def lcm(self):\n",
    "            self.num1 = input_number().int_input()\n",
    "            self.num2 = input_number().int_input()\n",
    "\n",
    "            self.max = 0\n",
    "            if(self.num1 > self.num2):\n",
    "                self.max = self.num1\n",
    "            else:\n",
    "                self.max = self.num2\n",
    "\n",
    "            while(True):\n",
    "                try:\n",
    "                    if(self.max % self.num1 == 0 and self.max % self.num2 == 0):\n",
    "                        self.value = self.max\n",
    "                        break\n",
    "                    self.max = self.max + 1\n",
    "                except Exception as ex:\n",
    "                    print(ex)\n",
    "            print('LCM of',self.num1,'&',self.num2,'is:-',self.value)\n",
    "\n",
    "    z = test()\n",
    "    z.lcm()\n",
    "\n",
    "'''"
   ]
  },
  {
   "cell_type": "code",
   "execution_count": 20,
   "id": "fd70dadf",
   "metadata": {},
   "outputs": [
    {
     "name": "stdout",
     "output_type": "stream",
     "text": [
      "Enter a number :- 8\n",
      "Enter a number :- 12\n",
      "4\n",
      "HCF of 8 & 12 is:- 4\n"
     ]
    }
   ],
   "source": [
    "'''Q.2 Write a Python Program to Find HCF\n",
    "\n",
    "    from input_user import input_number\n",
    "\n",
    "    class test:\n",
    "        def hcf(self):\n",
    "            self.num1 = input_number().int_input()\n",
    "            self.num2 = input_number().int_input()\n",
    "\n",
    "            self.min = 0\n",
    "            if(self.num1 > self.num2):\n",
    "                self.min = self.num1\n",
    "            else:\n",
    "                self.min = self.num2\n",
    "\n",
    "            try:\n",
    "                for i in range(1,self.min+1):\n",
    "                    if(self.num1 % i == 0 and self.num2 % i== 0):\n",
    "                        self.value = i\n",
    "                print(self.value)\n",
    "                print('HCF of',self.num1,'&',self.num2,'is:-',self.value)\n",
    "            except Exception as ex:\n",
    "                print(ex)\n",
    "\n",
    "    z = test()\n",
    "    z.hcf()\n",
    "\n",
    "'''"
   ]
  },
  {
   "cell_type": "code",
   "execution_count": 35,
   "id": "2d7500f5",
   "metadata": {},
   "outputs": [
    {
     "name": "stdout",
     "output_type": "stream",
     "text": [
      "Enter a number :- 125\n",
      "0b1111101\n",
      "0o175\n",
      "0x7d\n"
     ]
    }
   ],
   "source": [
    "'''Q.3 Write a Python Program to Convert Decimal to Binary, Octal and Hexadecimal\n",
    "\n",
    "    from input_user import input_number\n",
    "\n",
    "    class test:\n",
    "        def __init__(self):\n",
    "             self.num1 = input_number().int_input()\n",
    "        def dec_binary(self):\n",
    "            print(bin(self.num1))\n",
    "        def dec_oct(self):\n",
    "            print(oct(self.num1))\n",
    "        def dec_hex(self):\n",
    "            print(hex(self.num1))\n",
    "\n",
    "    z = test()\n",
    "    z.dec_binary()\n",
    "    z.dec_oct()\n",
    "    z.dec_hex()\n",
    "\n",
    "'''"
   ]
  },
  {
   "cell_type": "code",
   "execution_count": 37,
   "id": "57bf1da9",
   "metadata": {},
   "outputs": [
    {
     "name": "stdout",
     "output_type": "stream",
     "text": [
      "Enter character :-A\n",
      "Ascii value of A is 65\n"
     ]
    }
   ],
   "source": [
    "'''Q.4 Write a Python Program To Find ASCII value of a character\n",
    "\n",
    "    class test:\n",
    "            def __init__(self):\n",
    "                try:\n",
    "                     self.char = input(\"Enter character :-\")\n",
    "                except Exception as ex:\n",
    "                    print(ex)\n",
    "            def char_ascii(self):\n",
    "                print('Ascii value of',self.char,'is',ord(self.char))\n",
    "    z = test()\n",
    "    z.char_ascii()\n",
    "\n",
    "'''"
   ]
  },
  {
   "cell_type": "code",
   "execution_count": 1,
   "id": "16476afc",
   "metadata": {},
   "outputs": [
    {
     "name": "stdout",
     "output_type": "stream",
     "text": [
      "Enter first number:- 4\n",
      "Enter second number:- 5\n",
      "1 :- sum\n",
      "2 :- sub\n",
      "3 :- mult\n",
      "4 :- div\n",
      "0 :- exit\n",
      "Enter choice:- 1\n",
      "4.0 + 5.0 = 9.0\n",
      "Enter choice:- 2\n",
      "4.0 - 5.0 = -1.0\n",
      "Enter choice:- 3\n",
      "4.0 * 5.0 = 20.0\n",
      "Enter choice:- 4\n",
      "4.0 / 5.0 = 0.8\n",
      "Enter choice:- 0\n",
      "-----X-----\n"
     ]
    }
   ],
   "source": [
    "class test:\n",
    "    def sum_num(self):\n",
    "        print(self.num1 ,\"+\", self.num2 , \"=\" ,(self.num1+self.num2))\n",
    "    def sub_num(self):\n",
    "        print(self.num1 ,\"-\", self.num2 , \"=\" , (self.num1-self.num2))\n",
    "    def mult_num(self):\n",
    "        print(self.num1 ,\"*\", self.num2 , \"=\" , (self.num1*self.num2))\n",
    "    def div_num(self):\n",
    "        print(self.num1 ,\"/\", self.num2 , \"=\" , (self.num1/self.num2))\n",
    "    def calculator(self):\n",
    "        try:\n",
    "            self.num1 = float(input(\"Enter first number:- \"))\n",
    "            self.num2 = float(input(\"Enter second number:- \"))\n",
    "            print(\"1 :- sum\")\n",
    "            print(\"2 :- sub\")\n",
    "            print(\"3 :- mult\")\n",
    "            print(\"4 :- div\")\n",
    "            print(\"0 :- exit\")\n",
    "            while True:\n",
    "                self.choice = input(\"Enter choice:- \")\n",
    "                if self.choice == '1':\n",
    "                    self.sum_num()\n",
    "                elif self.choice == '2':\n",
    "                    self.sub_num()\n",
    "                elif self.choice == '3':\n",
    "                    self.mult_num()       \n",
    "                elif self.choice == '4':\n",
    "                    self.div_num()\n",
    "                elif self.choice == '0':\n",
    "                    print(\"-----X-----\")\n",
    "                    break\n",
    "        except Exception as ex:\n",
    "                print(ex)\n",
    "            \n",
    "z = test()\n",
    "z.calculator()                                "
   ]
  },
  {
   "cell_type": "code",
   "execution_count": null,
   "id": "d5424351",
   "metadata": {},
   "outputs": [],
   "source": []
  }
 ],
 "metadata": {
  "kernelspec": {
   "display_name": "Python 3",
   "language": "python",
   "name": "python3"
  },
  "language_info": {
   "codemirror_mode": {
    "name": "ipython",
    "version": 3
   },
   "file_extension": ".py",
   "mimetype": "text/x-python",
   "name": "python",
   "nbconvert_exporter": "python",
   "pygments_lexer": "ipython3",
   "version": "3.8.8"
  }
 },
 "nbformat": 4,
 "nbformat_minor": 5
}
