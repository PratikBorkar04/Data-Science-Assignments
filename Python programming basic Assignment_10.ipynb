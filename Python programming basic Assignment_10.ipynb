{
 "cells": [
  {
   "cell_type": "code",
   "execution_count": 5,
   "id": "ec9373e6",
   "metadata": {},
   "outputs": [
    {
     "name": "stdout",
     "output_type": "stream",
     "text": [
      "Sum of elements in list:- 15\n"
     ]
    }
   ],
   "source": [
    "# Q.1 Write a Python program to find sum of elements in list\n",
    "\n",
    "'''\n",
    "    def sum_list(l):\n",
    "        sum_num = 0\n",
    "        for i in l:\n",
    "            sum_num = sum_num + i\n",
    "        print(\"Sum of elements in list:-\",sum_num)\n",
    "        \n",
    "    sum_list([1,2,3,4,5])\n",
    "\n",
    "'''"
   ]
  },
  {
   "cell_type": "code",
   "execution_count": 9,
   "id": "55dea81c",
   "metadata": {},
   "outputs": [
    {
     "name": "stdout",
     "output_type": "stream",
     "text": [
      "multiplication of elements in list:- 120\n"
     ]
    }
   ],
   "source": [
    "# Q.2 Write a Python program to find multiplication of elements in list\n",
    "\n",
    "'''\n",
    "    def mult_list(l):\n",
    "        mult_num = 1\n",
    "        for i in l:\n",
    "            mult_num = mult_num * i\n",
    "        print(\"multiplication of elements in list:-\",mult_num)\n",
    "        \n",
    "    mult_list([1,2,3,4,5])\n",
    "\n",
    "'''"
   ]
  },
  {
   "cell_type": "code",
   "execution_count": 14,
   "id": "bf334dfe",
   "metadata": {},
   "outputs": [
    {
     "data": {
      "text/plain": [
       "-3"
      ]
     },
     "execution_count": 14,
     "metadata": {},
     "output_type": "execute_result"
    }
   ],
   "source": [
    "#Q.3 Write a Python program to find smallest number in a list\n",
    "\n",
    "'''\n",
    "    def min_list(l):\n",
    "        min = l[0]\n",
    "        for i in l:\n",
    "            if i < min:\n",
    "                min = i\n",
    "        return min\n",
    "        \n",
    "    min_list([1,2,3,4,5,-2,-3])\n",
    "\n",
    "'''"
   ]
  },
  {
   "cell_type": "code",
   "execution_count": 15,
   "id": "a7b69c6a",
   "metadata": {},
   "outputs": [
    {
     "data": {
      "text/plain": [
       "5"
      ]
     },
     "execution_count": 15,
     "metadata": {},
     "output_type": "execute_result"
    }
   ],
   "source": [
    "#Q.4 Write a Python program to find largest number in a list\n",
    "\n",
    "'''    \n",
    "    def max_list(l):\n",
    "        max = l[0]\n",
    "        for i in l:\n",
    "            if i > max:\n",
    "                max = i\n",
    "        return max\n",
    "        \n",
    "    max_list([1,2,3,4,5,-2,-3])\n",
    "    \n",
    "'''"
   ]
  },
  {
   "cell_type": "code",
   "execution_count": 18,
   "id": "bce6d6cc",
   "metadata": {},
   "outputs": [
    {
     "name": "stdout",
     "output_type": "stream",
     "text": [
      "47\n"
     ]
    }
   ],
   "source": [
    "#Q.5 Write a Python program to find second largest number in a list\n",
    "\n",
    "'''\n",
    "    list1 = [10, 20, 4, 45, 99, 47]\n",
    "    new_list = list1\n",
    "    new_list.remove(max_list(new_list))\n",
    "    print(max(new_list))\n",
    "\n",
    "'''"
   ]
  },
  {
   "cell_type": "code",
   "execution_count": 21,
   "id": "8f14cae0",
   "metadata": {},
   "outputs": [
    {
     "name": "stdout",
     "output_type": "stream",
     "text": [
      "Enter N :-2\n",
      "[4, 5]\n"
     ]
    }
   ],
   "source": [
    "#Q.6 Write a Python program to find N largest elements from a list?\n",
    "\n",
    "'''\n",
    "    n = int(input(\"Enter N :-\"))\n",
    "    l = [1,2,3,4,5,-2,-3]\n",
    "    l.sort()\n",
    "    print(l[-n:])\n",
    "\n",
    "'''"
   ]
  },
  {
   "cell_type": "code",
   "execution_count": 22,
   "id": "2c2e7dc4",
   "metadata": {},
   "outputs": [
    {
     "name": "stdout",
     "output_type": "stream",
     "text": [
      "2\n",
      "4\n",
      "-2\n"
     ]
    }
   ],
   "source": [
    "# Q.7 Write a Python program to print even numbers in a list?\n",
    "'''\n",
    "    def even_num(l):\n",
    "        for i in l:\n",
    "            if i % 2 == 0:\n",
    "                print(i)\n",
    "                \n",
    "    even_num([1,2,3,4,5,-2,-3])\n",
    "\n",
    "'''"
   ]
  },
  {
   "cell_type": "code",
   "execution_count": 25,
   "id": "0b94b4df",
   "metadata": {},
   "outputs": [
    {
     "name": "stdout",
     "output_type": "stream",
     "text": [
      "1\n",
      "3\n",
      "5\n",
      "-3\n"
     ]
    }
   ],
   "source": [
    "# Q.8 Write a Python program to print even numbers in a list?\n",
    "'''\n",
    "    def odd_num(l):\n",
    "        for i in l:\n",
    "            if i % 2 != 0:\n",
    "                print(i)\n",
    "                \n",
    "    odd_num([1,2,3,4,5,-2,-3])\n",
    "\n",
    "'''"
   ]
  },
  {
   "cell_type": "code",
   "execution_count": 31,
   "id": "15a8e9ba",
   "metadata": {},
   "outputs": [
    {
     "name": "stdout",
     "output_type": "stream",
     "text": [
      "[[1, 2, 3, 4, 5], ['ABCD', 'VV'], ['!', '@']]\n"
     ]
    }
   ],
   "source": [
    "# Q.9 Write a Python program to Remove empty List from List?\n",
    "'''\n",
    "    def remove_list(l):\n",
    "        for i in l:\n",
    "            if i == []:\n",
    "                l.remove(i)\n",
    "        print(l)\n",
    "\n",
    "    remove_list( [[1,2,3,4,5],[],[\"ABCD\",\"VV\"],[\"!\",\"@\"],[]])\n",
    "\n",
    "'''"
   ]
  },
  {
   "cell_type": "code",
   "execution_count": 35,
   "id": "d58c09ed",
   "metadata": {},
   "outputs": [
    {
     "name": "stdout",
     "output_type": "stream",
     "text": [
      "old [1, 2, 3, 4, 5, -2, -3]\n",
      "\n",
      "new clone:- [1, 2, 3, 4, 5, -2, -3]\n"
     ]
    }
   ],
   "source": [
    "# Q.10 Write a Python program to Cloning or Copying a list?\n",
    "\n",
    "'''\n",
    "    def cloning(l):\n",
    "        new_clone = []\n",
    "        for i in l:\n",
    "            new_clone.append(i)\n",
    "        print(\"old\",l)\n",
    "        print(\"\\nnew clone:-\",new_clone)\n",
    "\n",
    "    cloning([1,2,3,4,5,-2,-3])\n",
    "\n",
    "'''"
   ]
  },
  {
   "cell_type": "code",
   "execution_count": 51,
   "id": "6a64d8bd",
   "metadata": {},
   "outputs": [
    {
     "name": "stdout",
     "output_type": "stream",
     "text": [
      "The count of 1 is 1\n",
      "The count of 2 is 2\n",
      "The count of 3 is 2\n",
      "The count of 4 is 2\n",
      "The count of 5 is 1\n",
      "The count of -2 is 1\n",
      "The count of -3 is 1\n"
     ]
    }
   ],
   "source": [
    "#Q.11 Write a Python program to Count occurrences of an element in a list?\n",
    "'''\n",
    "    l = [1, 2, 3, 4, 5, -2, -3 , 2, 3, 4]\n",
    "    x= []\n",
    "\n",
    "    for j in l:\n",
    "        if j not in x:\n",
    "            x.append(j)\n",
    "            print(\"The count of\",j,\"is\",l.count(j))\n",
    "        else:\n",
    "            x.append(j)\n",
    "'''"
   ]
  },
  {
   "cell_type": "code",
   "execution_count": null,
   "id": "d0be435d",
   "metadata": {},
   "outputs": [],
   "source": []
  }
 ],
 "metadata": {
  "kernelspec": {
   "display_name": "Python 3",
   "language": "python",
   "name": "python3"
  },
  "language_info": {
   "codemirror_mode": {
    "name": "ipython",
    "version": 3
   },
   "file_extension": ".py",
   "mimetype": "text/x-python",
   "name": "python",
   "nbconvert_exporter": "python",
   "pygments_lexer": "ipython3",
   "version": "3.8.8"
  }
 },
 "nbformat": 4,
 "nbformat_minor": 5
}
