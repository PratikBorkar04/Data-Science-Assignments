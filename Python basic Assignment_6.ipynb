{
 "cells": [
  {
   "cell_type": "code",
   "execution_count": null,
   "id": "ff5570fe",
   "metadata": {},
   "outputs": [],
   "source": [
    "'''Q.1\n",
    "    Escape character is backslash and used of them is to insert characters that are illegal in a string\n",
    "'''"
   ]
  },
  {
   "cell_type": "code",
   "execution_count": null,
   "id": "88d9b373",
   "metadata": {},
   "outputs": [],
   "source": [
    "'''Q.2\n",
    "    n = stands to create a new line\n",
    "    t = tab\n",
    "'''"
   ]
  },
  {
   "cell_type": "code",
   "execution_count": null,
   "id": "effe8489",
   "metadata": {},
   "outputs": [],
   "source": [
    "'''Q.3\n",
    "    To include backslash in string used \\\\\n",
    "'''"
   ]
  },
  {
   "cell_type": "code",
   "execution_count": null,
   "id": "3cf02eb7",
   "metadata": {},
   "outputs": [],
   "source": [
    "'''Q.4\n",
    "    Because string is started with double quotes and ended with double quotes.\n",
    "'''"
   ]
  },
  {
   "cell_type": "code",
   "execution_count": null,
   "id": "92997b13",
   "metadata": {},
   "outputs": [],
   "source": [
    "'''Q.5\n",
    "    By using \\r\n",
    "'''"
   ]
  },
  {
   "cell_type": "code",
   "execution_count": null,
   "id": "ff397f50",
   "metadata": {},
   "outputs": [],
   "source": [
    "'''Q.6\n",
    "    \"Hello, World!\"[1] = e\n",
    "    \n",
    "    \"Hello, World!\"[0:5] = 'Hello'\n",
    "    \n",
    "    \"Hello, World!\"[:5] = 'Hello'\n",
    "    \n",
    "    \"Hello, World!\"[3:] = 'lo, World!'\n",
    "    \n",
    "'''"
   ]
  },
  {
   "cell_type": "code",
   "execution_count": null,
   "id": "2a59f872",
   "metadata": {},
   "outputs": [],
   "source": [
    "'''Q.7\n",
    "   \n",
    "    \"Hello\".upper() = 'HELLO'\n",
    "    \n",
    "    \"Hello\".upper().isupper() = True\n",
    "    \n",
    "    \"Hello\".upper().lower() = 'hello'\n",
    "    \n",
    "'''"
   ]
  },
  {
   "cell_type": "code",
   "execution_count": null,
   "id": "cbf422c6",
   "metadata": {},
   "outputs": [],
   "source": [
    "'''Q.8\n",
    "\n",
    "    'Remember, remember, the fifth of July.'.split()\n",
    "    \n",
    "        ['Remember,', 'remember,', 'the', 'fifth', 'of', 'July.']\n",
    "        \n",
    "    '-'.join('There can only one.'.split())\n",
    "    \n",
    "        'There-can-only-one.'\n",
    "'''"
   ]
  },
  {
   "cell_type": "code",
   "execution_count": null,
   "id": "75291ddf",
   "metadata": {},
   "outputs": [],
   "source": [
    "'''Q.9\n",
    "\n",
    "    left justifying ljust() =  allign the string according to the width specified and fills remaining space of line with blank space if ‘ fillchr ‘ argument is not passed\n",
    "    \n",
    "    right justifying rjust() = right aligns the string according to the width specified and fills remaining space of line with blank space if ‘ fillchr ‘ argument is not passed.\n",
    "\n",
    "    center() =  center aligns the string according to the width specified and fills remaining space of line with blank space if ‘ fillchr ‘ argument is not passed.\n",
    "\n",
    "    Example :-\n",
    "        \n",
    "        a = \"Python basic Assignment - 6\"\n",
    "        print(\"centering\",\"\\n\")\n",
    "        print(a.center(40),\"\\n\")\n",
    "\n",
    "        print(\"left justifying\",\"\\n\")\n",
    "        print(a.ljust(40,'-'),\"\\n\")\n",
    "\n",
    "        print(\"right justifying\",\"\\n\")\n",
    "        print(a.rjust(40,'-'))\n",
    "        \n",
    "        OUTPUT:-\n",
    "            centering \n",
    "\n",
    "                  Python basic Assignment - 6        \n",
    "\n",
    "            left justifying \n",
    "\n",
    "            Python basic Assignment - 6------------- \n",
    "\n",
    "            right justifying \n",
    "\n",
    "            -------------Python basic Assignment - 6\n",
    "    '''"
   ]
  },
  {
   "cell_type": "code",
   "execution_count": null,
   "id": "b614d59e",
   "metadata": {},
   "outputs": [],
   "source": [
    "'''Q.10\n",
    "    strip() = removes white spaces from bothe end.\n",
    "    a = \" iNeuron \"\n",
    "    a.strip()  \n",
    "    \n",
    "    OUTPUT:-\n",
    "        'iNeuron'\n",
    "'''"
   ]
  },
  {
   "cell_type": "code",
   "execution_count": null,
   "id": "a1f25aa4",
   "metadata": {},
   "outputs": [],
   "source": []
  }
 ],
 "metadata": {
  "kernelspec": {
   "display_name": "Python 3",
   "language": "python",
   "name": "python3"
  },
  "language_info": {
   "codemirror_mode": {
    "name": "ipython",
    "version": 3
   },
   "file_extension": ".py",
   "mimetype": "text/x-python",
   "name": "python",
   "nbconvert_exporter": "python",
   "pygments_lexer": "ipython3",
   "version": "3.8.8"
  }
 },
 "nbformat": 4,
 "nbformat_minor": 5
}
