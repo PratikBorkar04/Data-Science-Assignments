{
 "cells": [
  {
   "cell_type": "code",
   "execution_count": null,
   "id": "5a846b11",
   "metadata": {},
   "outputs": [],
   "source": [
    "'''Q.1\n",
    "    Red-Green-Blue-Alpha\n",
    "'''"
   ]
  },
  {
   "cell_type": "code",
   "execution_count": null,
   "id": "1af585e8",
   "metadata": {},
   "outputs": [],
   "source": [
    "'''Q.2\n",
    "    ImageColor.getcolor()\n",
    "'''"
   ]
  },
  {
   "cell_type": "code",
   "execution_count": null,
   "id": "b78be240",
   "metadata": {},
   "outputs": [],
   "source": [
    "'''Q.3\n",
    "    Many of Pillow's functions and methods take a box tuple argument. \n",
    "    This means Pillow is expecting a tuple of four integer coordinates that represent a rectangular region in an image.\n",
    "'''"
   ]
  },
  {
   "cell_type": "code",
   "execution_count": null,
   "id": "3f60274e",
   "metadata": {},
   "outputs": [],
   "source": [
    "'''Q.4\n",
    "    img = Image.open(\"\")\n",
    "    print(img.size())\n",
    "'''"
   ]
  },
  {
   "cell_type": "code",
   "execution_count": null,
   "id": "ea99462e",
   "metadata": {},
   "outputs": [],
   "source": [
    "'''Q.5\n",
    "    box - tuple method,\n",
    "    img = Image.fromarray(img_arr) # It will crop that part of image\n",
    "'''"
   ]
  },
  {
   "cell_type": "code",
   "execution_count": null,
   "id": "3d66b335",
   "metadata": {},
   "outputs": [],
   "source": [
    "'''Q.6\n",
    "    img = img.save(\"ineuron.jpg\")\n",
    "'''"
   ]
  },
  {
   "cell_type": "code",
   "execution_count": null,
   "id": "196eec5a",
   "metadata": {},
   "outputs": [],
   "source": [
    "'''Q.7\n",
    "    ImageDraw Module\n",
    "'''"
   ]
  },
  {
   "cell_type": "code",
   "execution_count": null,
   "id": "d99613c7",
   "metadata": {},
   "outputs": [],
   "source": [
    "'''Q.8\n",
    "    ImageDraw.Draw()\n",
    "    Store the ImageDraw object in a variable like draw so you can use it for Drawing shapes, text\n",
    "'''"
   ]
  },
  {
   "cell_type": "code",
   "execution_count": null,
   "id": "21302245",
   "metadata": {},
   "outputs": [],
   "source": []
  }
 ],
 "metadata": {
  "kernelspec": {
   "display_name": "Python 3",
   "language": "python",
   "name": "python3"
  },
  "language_info": {
   "codemirror_mode": {
    "name": "ipython",
    "version": 3
   },
   "file_extension": ".py",
   "mimetype": "text/x-python",
   "name": "python",
   "nbconvert_exporter": "python",
   "pygments_lexer": "ipython3",
   "version": "3.8.8"
  }
 },
 "nbformat": 4,
 "nbformat_minor": 5
}
