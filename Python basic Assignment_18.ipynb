{
 "cells": [
  {
   "cell_type": "code",
   "execution_count": 2,
   "id": "737a7d1f",
   "metadata": {},
   "outputs": [
    {
     "data": {
      "text/plain": [
       "'Open 9-5 daily'"
      ]
     },
     "execution_count": 2,
     "metadata": {},
     "output_type": "execute_result"
    }
   ],
   "source": [
    "'''Q.1\n",
    "    import Zoo\n",
    "    Zoo.hours()\n",
    "'''"
   ]
  },
  {
   "cell_type": "code",
   "execution_count": 3,
   "id": "7b726221",
   "metadata": {},
   "outputs": [
    {
     "data": {
      "text/plain": [
       "'Open 9-5 daily'"
      ]
     },
     "execution_count": 3,
     "metadata": {},
     "output_type": "execute_result"
    }
   ],
   "source": [
    "'''Q.2\n",
    "    import Zoo as menagerie\n",
    "    menagerie.hours()\n",
    "'''"
   ]
  },
  {
   "cell_type": "code",
   "execution_count": 5,
   "id": "27381ce5",
   "metadata": {},
   "outputs": [
    {
     "data": {
      "text/plain": [
       "'Open 9-5 daily'"
      ]
     },
     "execution_count": 5,
     "metadata": {},
     "output_type": "execute_result"
    }
   ],
   "source": [
    "'''Q.3\n",
    "    from Zoo import hours\n",
    "    hours()\n",
    "'''"
   ]
  },
  {
   "cell_type": "code",
   "execution_count": 8,
   "id": "32401665",
   "metadata": {},
   "outputs": [
    {
     "data": {
      "text/plain": [
       "'Open 9-5 daily'"
      ]
     },
     "execution_count": 8,
     "metadata": {},
     "output_type": "execute_result"
    }
   ],
   "source": [
    "'''Q.4\n",
    "    from Zoo import hours as info\n",
    "    info()\n",
    "'''"
   ]
  },
  {
   "cell_type": "code",
   "execution_count": 9,
   "id": "139ad7b1",
   "metadata": {},
   "outputs": [
    {
     "data": {
      "text/plain": [
       "{'a': 1, 'b': 2, 'c': 3}"
      ]
     },
     "execution_count": 9,
     "metadata": {},
     "output_type": "execute_result"
    }
   ],
   "source": [
    "'''Q.5\n",
    "    plain = {'a':1,'b':2,'c':3}\n",
    "    plain\n",
    "'''"
   ]
  },
  {
   "cell_type": "code",
   "execution_count": 12,
   "id": "a56446e8",
   "metadata": {},
   "outputs": [
    {
     "name": "stdout",
     "output_type": "stream",
     "text": [
      "a 1\n",
      "b 2\n",
      "c 3\n"
     ]
    }
   ],
   "source": [
    "'''Q.6\n",
    "    from collections import OrderedDict\n",
    "    fancy = OrderedDict()\n",
    "\n",
    "    fancy['a'] = 1\n",
    "    fancy['b'] = 2\n",
    "    fancy['c'] = 3\n",
    "\n",
    "    for key , value in fancy.items():\n",
    "        print(key,value)\n",
    "'''\n",
    "# It ordered as same , The main difference Ordereddict and dict is OrderedDict preserves the order in which the keys are inserted. "
   ]
  },
  {
   "cell_type": "code",
   "execution_count": 13,
   "id": "844b033c",
   "metadata": {},
   "outputs": [
    {
     "data": {
      "text/plain": [
       "'ineuron'"
      ]
     },
     "execution_count": 13,
     "metadata": {},
     "output_type": "execute_result"
    }
   ],
   "source": [
    "'''Q.7\n",
    "    from collections import defaultdict\n",
    "    dict_of_list =  defaultdict(list)\n",
    "    dict_of_list['a'] = 'ineuron'\n",
    "    dict_of_list['a']\n",
    "'''"
   ]
  },
  {
   "cell_type": "code",
   "execution_count": null,
   "id": "bb8272d5",
   "metadata": {},
   "outputs": [],
   "source": []
  }
 ],
 "metadata": {
  "kernelspec": {
   "display_name": "Python 3",
   "language": "python",
   "name": "python3"
  },
  "language_info": {
   "codemirror_mode": {
    "name": "ipython",
    "version": 3
   },
   "file_extension": ".py",
   "mimetype": "text/x-python",
   "name": "python",
   "nbconvert_exporter": "python",
   "pygments_lexer": "ipython3",
   "version": "3.8.8"
  }
 },
 "nbformat": 4,
 "nbformat_minor": 5
}
