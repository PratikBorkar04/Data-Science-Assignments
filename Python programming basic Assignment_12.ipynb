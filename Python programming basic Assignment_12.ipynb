{
 "cells": [
  {
   "cell_type": "code",
   "execution_count": 10,
   "id": "958ad3ab",
   "metadata": {},
   "outputs": [
    {
     "name": "stdout",
     "output_type": "stream",
     "text": [
      "Unique values are {1, 2, 3}\n"
     ]
    }
   ],
   "source": [
    "'''Q.1 Write a Python program to Extract Unique values dictionary values?\n",
    "\n",
    "    gen = {\"c\" :1,\"python\":3,\"java\":3,\"c++\":3,\"c#\" :2,\"Flutter\":2}\n",
    "    s = set()\n",
    "    for i in gen.values():\n",
    "        s.add(i) \n",
    "    print(\"Unique values are\",s)\n",
    "\n",
    "'''"
   ]
  },
  {
   "cell_type": "code",
   "execution_count": 14,
   "id": "f15a6119",
   "metadata": {},
   "outputs": [
    {
     "name": "stdout",
     "output_type": "stream",
     "text": [
      "The sum of all items in a dictionary 14\n"
     ]
    }
   ],
   "source": [
    "'''Q.2 Write a Python program to find the sum of all items in a dictionary?\n",
    "\n",
    "    gen = {\"c\" :1,\"python\":3,\"java\":3,\"c++\":3,\"c#\" :2,\"Flutter\":2}\n",
    "    ls =[]\n",
    "    for i in gen.values():\n",
    "        ls.append(i)\n",
    "    print(\"The sum of all items in a dictionary\",sum(ls))\n",
    "\n",
    "'''"
   ]
  },
  {
   "cell_type": "code",
   "execution_count": 3,
   "id": "dc9c25c1",
   "metadata": {},
   "outputs": [
    {
     "name": "stdout",
     "output_type": "stream",
     "text": [
      "{3: 'KidsNeuron', 4: 'OneNeuron', 1: 'TechNeuron', 2: 'Ineuron'}\n"
     ]
    }
   ],
   "source": [
    "'''Q.3 Write a Python program to Merging two Dictionaries?\n",
    "    dict1 = {1:\"TechNeuron\" , 2:\"Ineuron\"}\n",
    "    dict2 = {3:\"KidsNeuron\" , 4:\"OneNeuron\"}\n",
    "\n",
    "    def Merge(dict1,dict2):\n",
    "        return (dict2.update(dict1))\n",
    "\n",
    "    Merge(dict1,dict2)\n",
    "    print(dict2)\n",
    "\n",
    "'''"
   ]
  },
  {
   "cell_type": "code",
   "execution_count": 5,
   "id": "7ba8852d",
   "metadata": {},
   "outputs": [
    {
     "name": "stdout",
     "output_type": "stream",
     "text": [
      "Flat Dictionary :- {'TechNeuron': 2, 'Ineuron': 1, 'KidsNeuron': 3}\n"
     ]
    }
   ],
   "source": [
    "'''Q.4 Write a Python program to convert key-values list to flat dictionary?\n",
    "    from itertools import product\n",
    "\n",
    "    dict1 = {\"Course\":[\"TechNeuron\",\"Ineuron\",\"KidsNeuron\"],\n",
    "            \"Number\":[2,1,3]}\n",
    "\n",
    "    result = dict(zip(dict1[\"Course\"],dict1[\"Number\"]))\n",
    "    print(\"Flat Dictionary :-\",result)\n",
    "\n",
    "'''"
   ]
  },
  {
   "cell_type": "code",
   "execution_count": 8,
   "id": "69f64fb3",
   "metadata": {},
   "outputs": [
    {
     "name": "stdout",
     "output_type": "stream",
     "text": [
      "OrderedDict([('3', 'KidsNeuron'), ('1', 'TechNeuron'), ('2', 'Ineuron')])\n"
     ]
    }
   ],
   "source": [
    "'''Q.5 Write a Python program to insertion at the beginning in OrderedDict?\n",
    "\n",
    "    from collections import OrderedDict\n",
    "\n",
    "    dict1 = OrderedDict([(\"1\",\"TechNeuron\") ,(\"2\",\"Ineuron\")])\n",
    "\n",
    "    dict1.update({\"3\":\"KidsNeuron\" })\n",
    "\n",
    "    dict1.move_to_end(\"3\" , last = False)\n",
    "\n",
    "    print(str(dict1))\n",
    "\n",
    "'''"
   ]
  },
  {
   "cell_type": "code",
   "execution_count": 15,
   "id": "a03ef3a3",
   "metadata": {},
   "outputs": [
    {
     "name": "stdout",
     "output_type": "stream",
     "text": [
      "OrderedDict([('D', None), ('a', None), ('t', None), (' ', None), ('S', None), ('c', None), ('i', None), ('e', None), ('n', None)])\n",
      "True\n"
     ]
    }
   ],
   "source": [
    "'''Q.6 Write a Python program to check order of character in string using OrderedDict()?\n",
    "\n",
    "    from collections import OrderedDict \n",
    "    def checkOrder(string, pattern): \n",
    "        dic = OrderedDict.fromkeys(string) \n",
    "        print(dic)\n",
    "        ptr = 0\n",
    "        for key,value in dic.items(): \n",
    "            if (key == pattern[ptr]): \n",
    "                ptr = ptr + 1\n",
    "            if (ptr == (len(pattern))): \n",
    "                return 'True'\n",
    "        return 'False'\n",
    "\n",
    "    string = 'Data Science'\n",
    "    pattern = 'DS'\n",
    "    print (checkOrder(string,pattern))\n",
    "\n",
    "'''"
   ]
  },
  {
   "cell_type": "code",
   "execution_count": 39,
   "id": "cd7d01e1",
   "metadata": {},
   "outputs": [
    {
     "name": "stdout",
     "output_type": "stream",
     "text": [
      "(1, 'TechNeuron') (2, 'Ineuron') (3, 'KidsNeuron') (4, 'OneNeuron') "
     ]
    }
   ],
   "source": [
    "''' Q.7 Write a Python program to sort Python Dictionaries by Key or Value?\n",
    "\n",
    "    dict1 = {1:\"TechNeuron\",3:\"KidsNeuron\" , 4:\"OneNeuron\" , 2:\"Ineuron\"}\n",
    "\n",
    "    for i in sorted(dict1) :\n",
    "        print((i, dict1[i]), end =\" \")\n",
    "    \n",
    "'''"
   ]
  },
  {
   "cell_type": "code",
   "execution_count": null,
   "id": "a9aaa8d0",
   "metadata": {},
   "outputs": [],
   "source": []
  }
 ],
 "metadata": {
  "kernelspec": {
   "display_name": "Python 3",
   "language": "python",
   "name": "python3"
  },
  "language_info": {
   "codemirror_mode": {
    "name": "ipython",
    "version": 3
   },
   "file_extension": ".py",
   "mimetype": "text/x-python",
   "name": "python",
   "nbconvert_exporter": "python",
   "pygments_lexer": "ipython3",
   "version": "3.8.8"
  }
 },
 "nbformat": 4,
 "nbformat_minor": 5
}
