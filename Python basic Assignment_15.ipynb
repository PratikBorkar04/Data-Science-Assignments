{
 "cells": [
  {
   "cell_type": "code",
   "execution_count": null,
   "id": "7040a4e3",
   "metadata": {},
   "outputs": [],
   "source": [
    "'''Q.1\n",
    "    60 second in 1 min\n",
    "    60 min in 1 hr\n",
    "    \n",
    "    60 * 60 = 3600\n",
    "'''"
   ]
  },
  {
   "cell_type": "code",
   "execution_count": null,
   "id": "67277017",
   "metadata": {},
   "outputs": [],
   "source": [
    "'''Q.2\n",
    "    seconds_per_hour = 60 * 60 \n",
    "    minutes_per_hour = 60\n",
    "'''"
   ]
  },
  {
   "cell_type": "code",
   "execution_count": null,
   "id": "4dd76bd5",
   "metadata": {},
   "outputs": [],
   "source": [
    "'''Q.3\n",
    "    seconds_per_hour * 24 = 86400\n",
    "'''"
   ]
  },
  {
   "cell_type": "code",
   "execution_count": null,
   "id": "7c58ff23",
   "metadata": {},
   "outputs": [],
   "source": [
    "'''Q.4\n",
    "    seconds_per_day = seconds_per_hour * 24\n",
    "'''"
   ]
  },
  {
   "cell_type": "code",
   "execution_count": null,
   "id": "1e9e8661",
   "metadata": {},
   "outputs": [],
   "source": [
    "'''Q.5\n",
    "    a = seconds_per_day / seconds_per_hour = 24\n",
    "'''"
   ]
  },
  {
   "cell_type": "code",
   "execution_count": 6,
   "id": "8c2e907c",
   "metadata": {},
   "outputs": [],
   "source": [
    "'''Q.6\n",
    "    Yes , 24\n",
    "'''"
   ]
  },
  {
   "cell_type": "code",
   "execution_count": 25,
   "id": "26fa285c",
   "metadata": {},
   "outputs": [
    {
     "name": "stdout",
     "output_type": "stream",
     "text": [
      "2\n",
      "3\n",
      "5\n",
      "7\n",
      "11\n"
     ]
    }
   ],
   "source": [
    "'''Q.7\n",
    "def genprime():\n",
    "    for i in range(1,100):\n",
    "        if i>1:\n",
    "            for j in range(2,i):\n",
    "                if i % j == 0:\n",
    "                    break\n",
    "            else:\n",
    "                yield(i)\n",
    "obj = genprime()\n",
    "print(next(obj))\n",
    "print(next(obj))\n",
    "print(next(obj))\n",
    "print(next(obj))\n",
    "print(next(obj))'''"
   ]
  },
  {
   "cell_type": "code",
   "execution_count": 39,
   "id": "24987cc0",
   "metadata": {},
   "outputs": [],
   "source": []
  }
 ],
 "metadata": {
  "kernelspec": {
   "display_name": "Python 3",
   "language": "python",
   "name": "python3"
  },
  "language_info": {
   "codemirror_mode": {
    "name": "ipython",
    "version": 3
   },
   "file_extension": ".py",
   "mimetype": "text/x-python",
   "name": "python",
   "nbconvert_exporter": "python",
   "pygments_lexer": "ipython3",
   "version": "3.8.8"
  }
 },
 "nbformat": 4,
 "nbformat_minor": 5
}
