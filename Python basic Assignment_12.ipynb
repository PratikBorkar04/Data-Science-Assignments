{
 "cells": [
  {
   "cell_type": "code",
   "execution_count": null,
   "id": "b2282869",
   "metadata": {},
   "outputs": [],
   "source": [
    "'''Q.1\n",
    "    'rb' Read - binary mode.\n",
    "'''"
   ]
  },
  {
   "cell_type": "code",
   "execution_count": null,
   "id": "fb374847",
   "metadata": {},
   "outputs": [],
   "source": [
    "'''Q.2\n",
    "    pdfReader.getPage(5)\n",
    "'''"
   ]
  },
  {
   "cell_type": "code",
   "execution_count": null,
   "id": "4a876978",
   "metadata": {},
   "outputs": [],
   "source": [
    "'''Q.3\n",
    "    numPages \n",
    "'''"
   ]
  },
  {
   "cell_type": "code",
   "execution_count": null,
   "id": "94f07f96",
   "metadata": {},
   "outputs": [],
   "source": [
    "'''Q.4\n",
    "    file = PdfFileReader(\"ineuron.pdf\")\n",
    "    password = \"swordfish\"\n",
    "    file.decrypt(password)\n",
    "'''"
   ]
  },
  {
   "cell_type": "code",
   "execution_count": null,
   "id": "0b84265c",
   "metadata": {},
   "outputs": [],
   "source": [
    "'''Q.5\n",
    "    pdfReader = PyPDF2.PdfFileReader(open_file)\n",
    "    page = pdfReader.getPage(0)\n",
    "    page.rotateClockwise(90)\n",
    "'''"
   ]
  },
  {
   "cell_type": "code",
   "execution_count": null,
   "id": "3ea312cf",
   "metadata": {},
   "outputs": [],
   "source": [
    "'''Q.6\n",
    "    run object contains inline contains such as images and text\n",
    "    paragraph object contains character style identification\n",
    "'''"
   ]
  },
  {
   "cell_type": "code",
   "execution_count": null,
   "id": "ef7ec1fa",
   "metadata": {},
   "outputs": [],
   "source": [
    "'''Q.7\n",
    "    doc.paragraphs[0].text\n",
    "'''"
   ]
  },
  {
   "cell_type": "code",
   "execution_count": null,
   "id": "61826b6e",
   "metadata": {},
   "outputs": [],
   "source": [
    "'''Q.8\n",
    "    Run.text contains bold ,outline variables\n",
    "'''"
   ]
  },
  {
   "cell_type": "code",
   "execution_count": null,
   "id": "8434d437",
   "metadata": {},
   "outputs": [],
   "source": [
    "'''Q.9\n",
    "    True = the attribute is always enabled\n",
    "    False = the attribute is always disabled\n",
    "    None = Default \n",
    "'''"
   ]
  },
  {
   "cell_type": "code",
   "execution_count": null,
   "id": "258839f3",
   "metadata": {},
   "outputs": [],
   "source": [
    "'''Q.10\n",
    "    docx.Document()\n",
    "'''"
   ]
  },
  {
   "cell_type": "code",
   "execution_count": null,
   "id": "dcdda224",
   "metadata": {},
   "outputs": [],
   "source": [
    "'''Q.11\n",
    "    import docx\n",
    "    doc = docx.Document()\n",
    "    \n",
    "    doc_para = doc.add_paragraph('HEADING')\n",
    "    doc_para.add_run('Hello,there!')\n",
    "'''"
   ]
  },
  {
   "cell_type": "code",
   "execution_count": null,
   "id": "b73587bb",
   "metadata": {},
   "outputs": [],
   "source": [
    "'''Q.12\n",
    "    doc = docx.Document()\n",
    "    doc.add_heading(0) # 1-4\n",
    "'''"
   ]
  },
  {
   "cell_type": "code",
   "execution_count": null,
   "id": "86220018",
   "metadata": {},
   "outputs": [],
   "source": []
  }
 ],
 "metadata": {
  "kernelspec": {
   "display_name": "Python 3",
   "language": "python",
   "name": "python3"
  },
  "language_info": {
   "codemirror_mode": {
    "name": "ipython",
    "version": 3
   },
   "file_extension": ".py",
   "mimetype": "text/x-python",
   "name": "python",
   "nbconvert_exporter": "python",
   "pygments_lexer": "ipython3",
   "version": "3.8.8"
  }
 },
 "nbformat": 4,
 "nbformat_minor": 5
}
