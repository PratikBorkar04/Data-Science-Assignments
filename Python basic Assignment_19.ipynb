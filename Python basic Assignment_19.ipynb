{
 "cells": [
  {
   "cell_type": "code",
   "execution_count": 8,
   "id": "422559d2",
   "metadata": {},
   "outputs": [
    {
     "name": "stdout",
     "output_type": "stream",
     "text": [
      "<class '__main__.thing'>\n",
      "<__main__.thing object at 0x0000022ADFC53F70>\n"
     ]
    }
   ],
   "source": [
    "'''Q.1\n",
    "    class thing:\n",
    "        pass\n",
    "    print(thing) ----->#<class '__main__.thing'>\n",
    "    example = thing()\n",
    "    print(example) ----->#<__main__.thing object at 0x0000022ADFC539A0>\n",
    "    #No\n",
    "'''"
   ]
  },
  {
   "cell_type": "code",
   "execution_count": 6,
   "id": "3dffbc1a",
   "metadata": {},
   "outputs": [
    {
     "data": {
      "text/plain": [
       "'abc'"
      ]
     },
     "execution_count": 6,
     "metadata": {},
     "output_type": "execute_result"
    }
   ],
   "source": [
    "'''Q.2\n",
    "    class thing2:\n",
    "        def letters():\n",
    "            print('abc')\n",
    "    thing2.letters()\n",
    "'''"
   ]
  },
  {
   "cell_type": "code",
   "execution_count": 30,
   "id": "a7ef05d1",
   "metadata": {},
   "outputs": [
    {
     "name": "stdout",
     "output_type": "stream",
     "text": [
      "xyz\n"
     ]
    }
   ],
   "source": [
    "'''Q.3\n",
    "    class thing3:\n",
    "        def __init__(self,letters):\n",
    "            self.letters = letters\n",
    "    a = thing3('xyz')\n",
    "    print(a.letters)\n",
    "    # yes\n",
    "'''"
   ]
  },
  {
   "cell_type": "code",
   "execution_count": 4,
   "id": "b7d5edb3",
   "metadata": {},
   "outputs": [
    {
     "data": {
      "text/plain": [
       "('Hydrogen', 'H', 1)"
      ]
     },
     "execution_count": 4,
     "metadata": {},
     "output_type": "execute_result"
    }
   ],
   "source": [
    "'''Q.4\n",
    "    class Element:\n",
    "        def __init__(self,name,symbol,number):\n",
    "            self.name = name\n",
    "            self.symbol = symbol\n",
    "            self.number = number\n",
    "        def values(self):\n",
    "            return self.name , self.symbol , self.number\n",
    "    a = Element('Hydrogen','H',1)\n",
    "    a.values()\n",
    "'''"
   ]
  },
  {
   "cell_type": "code",
   "execution_count": 19,
   "id": "9a1dc9ce",
   "metadata": {},
   "outputs": [
    {
     "data": {
      "text/plain": [
       "'Hydrogen'"
      ]
     },
     "execution_count": 19,
     "metadata": {},
     "output_type": "execute_result"
    }
   ],
   "source": [
    "'''Q.5\n",
    "    d = {'name': 'Hydrogen', 'symbol': 'H', 'number': 1}\n",
    "    hydrogen = Element(d['name'], d['symbol'], d['number'])\n",
    "    hydrogen.name\n",
    "'''"
   ]
  },
  {
   "cell_type": "code",
   "execution_count": 13,
   "id": "bb7af898",
   "metadata": {},
   "outputs": [
    {
     "data": {
      "text/plain": [
       "('Hydrogen', 'H', 1)"
      ]
     },
     "execution_count": 13,
     "metadata": {},
     "output_type": "execute_result"
    }
   ],
   "source": [
    "'''Q.6\n",
    "    class Element:\n",
    "    def __init__(self,name,symbol,number):\n",
    "        self.name = name\n",
    "        self.symbol = symbol\n",
    "        self.number = number\n",
    "    def dump(self):\n",
    "        return self.name , self.symbol , self.number\n",
    "    a = Element('Hydrogen','H',1)\n",
    "    a.dump()\n",
    "'''"
   ]
  },
  {
   "cell_type": "code",
   "execution_count": 4,
   "id": "890a2c6a",
   "metadata": {},
   "outputs": [
    {
     "name": "stdout",
     "output_type": "stream",
     "text": [
      "name=Hydrogen, symbol=H, number=1\n"
     ]
    }
   ],
   "source": [
    "'''Q.7\n",
    "    class Element:\n",
    "        def __init__(self,name,symbol,number):\n",
    "            self.name = name\n",
    "            self.symbol = symbol\n",
    "            self.number = number\n",
    "        def __str__(self):\n",
    "            return ('name=%s, symbol=%s, number=%s' %(self.name , self.symbol , self.number))\n",
    "\n",
    "    hydrogen = Element(**d)\n",
    "    print(hydrogen)\n",
    "'''"
   ]
  },
  {
   "cell_type": "code",
   "execution_count": 23,
   "id": "0f5af6af",
   "metadata": {},
   "outputs": [
    {
     "name": "stdout",
     "output_type": "stream",
     "text": [
      "Hydrogen\n",
      "H\n",
      "1\n"
     ]
    }
   ],
   "source": [
    "'''Q.8\n",
    "    class Element:\n",
    "    def __init__(self,name,symbol,number):\n",
    "        self.__name = name\n",
    "        self.__symbol = symbol\n",
    "        self.__number = number\n",
    "    def get_name(self):\n",
    "        return self.__name \n",
    "\n",
    "    def get_symbol(self):\n",
    "        return self.__symbol \n",
    "\n",
    "    def get_number(self):  \n",
    "        return self.__number\n",
    "    hydrogen = Element('Hydrogen','H',1)\n",
    "    print(hydrogen.get_name())\n",
    "    print(hydrogen.get_symbol())\n",
    "    print(hydrogen.get_number())\n",
    "'''"
   ]
  },
  {
   "cell_type": "code",
   "execution_count": 34,
   "id": "8d0e5d5d",
   "metadata": {},
   "outputs": [
    {
     "name": "stdout",
     "output_type": "stream",
     "text": [
      "berries\n",
      "Clover\n",
      "Campers\n"
     ]
    }
   ],
   "source": [
    "'''Q.9\n",
    "    class Bear:\n",
    "        def eats(self):\n",
    "            return 'berries'\n",
    "    class Rabbit:\n",
    "        def eats(self):\n",
    "            return 'Clover'\n",
    "    class Octothorpe:\n",
    "        def eats(self):\n",
    "            return 'Campers'\n",
    "    b = Bear()\n",
    "    r = Rabbit()\n",
    "    o = Octothorpe()\n",
    "\n",
    "    print(b.eats())\n",
    "    print(r.eats())\n",
    "    print(o.eats())\n",
    "'''"
   ]
  },
  {
   "cell_type": "code",
   "execution_count": 42,
   "id": "4eb71612",
   "metadata": {},
   "outputs": [
    {
     "data": {
      "text/plain": [
       "('disintegrate', 'crush', 'ring')"
      ]
     },
     "execution_count": 42,
     "metadata": {},
     "output_type": "execute_result"
    }
   ],
   "source": [
    "'''Q.10\n",
    "    class Laser:\n",
    "        def does(self):\n",
    "            return 'disintegrate'\n",
    "    class Claw:\n",
    "        def does(self):\n",
    "            return 'crush'\n",
    "    class SmartPhone:\n",
    "        def does(self):\n",
    "            return 'ring'\n",
    "\n",
    "    class Robot(Laser,Claw,SmartPhone):\n",
    "        def __init__(self):\n",
    "            self.laser = Laser()\n",
    "            self.claw = Claw()\n",
    "            self.smartPhone = SmartPhone()\n",
    "        def does(self):\n",
    "            return self.laser.does() ,self.claw.does() ,self.smartPhone.does()\n",
    "\n",
    "    function = Robot()\n",
    "    function.does()\n",
    "'''"
   ]
  },
  {
   "cell_type": "code",
   "execution_count": null,
   "id": "c6b51090",
   "metadata": {},
   "outputs": [],
   "source": []
  }
 ],
 "metadata": {
  "kernelspec": {
   "display_name": "Python 3",
   "language": "python",
   "name": "python3"
  },
  "language_info": {
   "codemirror_mode": {
    "name": "ipython",
    "version": 3
   },
   "file_extension": ".py",
   "mimetype": "text/x-python",
   "name": "python",
   "nbconvert_exporter": "python",
   "pygments_lexer": "ipython3",
   "version": "3.8.8"
  }
 },
 "nbformat": 4,
 "nbformat_minor": 5
}
