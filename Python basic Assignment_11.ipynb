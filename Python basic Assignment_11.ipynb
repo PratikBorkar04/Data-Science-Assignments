{
 "cells": [
  {
   "cell_type": "code",
   "execution_count": null,
   "id": "26120b06",
   "metadata": {},
   "outputs": [],
   "source": [
    "'''Q.1\n",
    "    spam = int(input(\"Enter a Number :- \"))\n",
    "    if spam < 0 :\n",
    "        raise AssertionError\n",
    "'''"
   ]
  },
  {
   "cell_type": "code",
   "execution_count": null,
   "id": "749e18fb",
   "metadata": {},
   "outputs": [],
   "source": [
    "'''Q.2\n",
    "    a = input(\"Enter 1st word :- \")\n",
    "    b = input(\"Enter 2nd word :- \")\n",
    "    eggs = a.lower()\n",
    "    bacon = b.lower()\n",
    "    if eggs == bacon :\n",
    "            raise AssertionError\n",
    "'''"
   ]
  },
  {
   "cell_type": "code",
   "execution_count": null,
   "id": "cdf7ab0b",
   "metadata": {},
   "outputs": [],
   "source": [
    "'''Q.3\n",
    "    a = int(input(\"Enter a:- \"))\n",
    "    b = int(input(\"Enter b:- \"))\n",
    "    print(\"The value of a / b is : \")\n",
    "    assert (b >= 0 and b <= 0)\n",
    "    print(a / b)\n",
    "'''"
   ]
  },
  {
   "cell_type": "code",
   "execution_count": null,
   "id": "ddc135de",
   "metadata": {},
   "outputs": [],
   "source": [
    "'''Q.4\n",
    "    handlers,basicConfig() \n",
    "'''"
   ]
  },
  {
   "cell_type": "code",
   "execution_count": null,
   "id": "5be9f9a6",
   "metadata": {},
   "outputs": [],
   "source": [
    "'''Q.5\n",
    "    import logging\n",
    "    logging.basicConfig(filename = \"test3.log\",level = logging.DEBUG , format = \"%(asctime)s %(message)s\")\n",
    "'''"
   ]
  },
  {
   "cell_type": "code",
   "execution_count": null,
   "id": "de1c1400",
   "metadata": {},
   "outputs": [],
   "source": [
    "'''Q.6\n",
    "    CRITICAL\n",
    "\n",
    "    ERROR\n",
    "\n",
    "    WARNING\n",
    "\n",
    "    INFO\n",
    "\n",
    "    DEBUG\n",
    "'''"
   ]
  },
  {
   "cell_type": "code",
   "execution_count": null,
   "id": "bbe68d9b",
   "metadata": {},
   "outputs": [],
   "source": [
    "'''Q.7\n",
    "    logging.disable(logging.DEBUG)\n",
    "'''"
   ]
  },
  {
   "cell_type": "code",
   "execution_count": null,
   "id": "e527b6e4",
   "metadata": {},
   "outputs": [],
   "source": [
    "'''Q.8\n",
    "    1.Print displays the data on console while looging data data inside a file.\n",
    "    2.Print contains printing feature while looging has multiple features (Error,info)\n",
    "'''"
   ]
  },
  {
   "cell_type": "code",
   "execution_count": null,
   "id": "89b758aa",
   "metadata": {},
   "outputs": [],
   "source": [
    "'''Q.9\n",
    "    Step into will cause the debugger to descend into any method calls on the current line.\n",
    "    Step over proceeds to the next line in your current scope , without descending into any method calls on the way.\n",
    "    Step out proceeds until until control has returned to the preceding stack frame\n",
    "'''"
   ]
  },
  {
   "cell_type": "code",
   "execution_count": null,
   "id": "7b1aad55",
   "metadata": {},
   "outputs": [],
   "source": [
    "'''Q.10\n",
    "     Go runs until the program terminate or reaches a breakpoint set.\n",
    "'''"
   ]
  },
  {
   "cell_type": "code",
   "execution_count": null,
   "id": "9520978a",
   "metadata": {},
   "outputs": [],
   "source": [
    "'''Q.11\n",
    "    The Python breakpoint() built-in function is a tool that allows developers to set points in code at which a debugger is called\n",
    "'''"
   ]
  }
 ],
 "metadata": {
  "kernelspec": {
   "display_name": "Python 3",
   "language": "python",
   "name": "python3"
  },
  "language_info": {
   "codemirror_mode": {
    "name": "ipython",
    "version": 3
   },
   "file_extension": ".py",
   "mimetype": "text/x-python",
   "name": "python",
   "nbconvert_exporter": "python",
   "pygments_lexer": "ipython3",
   "version": "3.8.8"
  }
 },
 "nbformat": 4,
 "nbformat_minor": 5
}
