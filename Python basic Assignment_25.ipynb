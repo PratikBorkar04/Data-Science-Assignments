{
 "cells": [
  {
   "cell_type": "code",
   "execution_count": 6,
   "id": "e62fc1bf",
   "metadata": {},
   "outputs": [
    {
     "name": "stdout",
     "output_type": "stream",
     "text": [
      "<class 'list'>\n",
      "<class 'generator'>\n"
     ]
    }
   ],
   "source": [
    "'''Q.1\n",
    "    a = [x for x in range(1,10)]\n",
    "    print(type(a))\n",
    "    b = (x for x in range(1,10))\n",
    "    print(type(b))\n",
    "    \n",
    "    Square brackets are lists while parentheses are generators\n",
    "'''"
   ]
  },
  {
   "cell_type": "code",
   "execution_count": null,
   "id": "48ffcf3c",
   "metadata": {},
   "outputs": [],
   "source": [
    "'''Q.2\n",
    "    iterator:-\n",
    "    Class is used to implement an iterator ,Iterator uses iter() and next() functions \n",
    "        ls = iter([1,2,3,5])\n",
    "        print(next(ls))\n",
    "        \n",
    "    generator:-\n",
    "    Function is used to implement a generator , Generator uses yield keyword\n",
    "    def nex(n):\n",
    "        for i in range(1,n+1):\n",
    "            yield i * i\n",
    "    a = nex(4)\n",
    "    print(next(a))\n",
    "    print(next(a))\n",
    "    print(next(a))\n",
    "'''\n"
   ]
  },
  {
   "cell_type": "code",
   "execution_count": null,
   "id": "771fe36e",
   "metadata": {},
   "outputs": [],
   "source": [
    "'''Q.3\n",
    "    If a function contains at least one yeild statement thenn it becomes generator.\n",
    "'''"
   ]
  },
  {
   "cell_type": "code",
   "execution_count": null,
   "id": "9c2a97ee",
   "metadata": {},
   "outputs": [],
   "source": [
    "'''Q.4\n",
    "    Yield is a keyword in Python that is used to return from a function without destroying the states of its local variable and when the function is called, \n",
    "    the execution starts from the last yield statement.\n",
    "'''"
   ]
  },
  {
   "cell_type": "code",
   "execution_count": null,
   "id": "f4407a5f",
   "metadata": {},
   "outputs": [],
   "source": [
    "'''Q.5\n",
    "    List comprehension is more concise and easier to read as compared to map.\n",
    "    List comprehension are used when a list of results is required as map only returns a map object and does not return any list.\n",
    "    Map is faster in case of calling an already defined function (as no lambda is required).\n",
    "    List comprehension allows filtering. In map, we have no such facility.\n",
    "'''"
   ]
  }
 ],
 "metadata": {
  "kernelspec": {
   "display_name": "Python 3",
   "language": "python",
   "name": "python3"
  },
  "language_info": {
   "codemirror_mode": {
    "name": "ipython",
    "version": 3
   },
   "file_extension": ".py",
   "mimetype": "text/x-python",
   "name": "python",
   "nbconvert_exporter": "python",
   "pygments_lexer": "ipython3",
   "version": "3.8.8"
  }
 },
 "nbformat": 4,
 "nbformat_minor": 5
}
