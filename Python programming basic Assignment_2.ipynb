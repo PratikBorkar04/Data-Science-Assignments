{
 "cells": [
  {
   "cell_type": "code",
   "execution_count": 6,
   "id": "170940c3",
   "metadata": {},
   "outputs": [
    {
     "name": "stdout",
     "output_type": "stream",
     "text": [
      "Enter Kilometer :- 1\n",
      "1 km =  0.6215040397762586 miles\n"
     ]
    }
   ],
   "source": [
    "'''Q.1 Write a Python program to convert kilometers to miles\n",
    "\n",
    "    try:\n",
    "        class test:\n",
    "            def input_value(self):\n",
    "                self.a = int(input(\"Enter Kilometer :- \"))\n",
    "            def miles(self):\n",
    "                self.b = (self.a/1.609)\n",
    "                print(self.a,\"km = \",self.b,\"miles\")\n",
    "        z = test()\n",
    "        z.input_value()\n",
    "        z.miles()\n",
    "\n",
    "    except Exception as ex:\n",
    "        print(ex)\n",
    "    \n",
    "'''"
   ]
  },
  {
   "cell_type": "code",
   "execution_count": 10,
   "id": "9e2efb32",
   "metadata": {},
   "outputs": [
    {
     "name": "stdout",
     "output_type": "stream",
     "text": [
      "Enter Celsius value:- 38\n",
      "38 Celsius =  100.4 Fahrenheit\n"
     ]
    }
   ],
   "source": [
    "'''Q.2 Write a Python program to convert Celsius to Fahrenheit\n",
    "\n",
    "    try:\n",
    "        class test:\n",
    "            def input_value(self):\n",
    "                self.a = int(input(\"Enter Celsius value:- \"))\n",
    "            def miles(self):\n",
    "                self.b = ((self.a*1.8)+ 32)\n",
    "                print(self.a,\"Celsius = \",self.b,\"Fahrenheit\")\n",
    "        z = test()\n",
    "        z.input_value()\n",
    "        z.miles()\n",
    "\n",
    "    except Exception as ex:\n",
    "        print(ex)\n",
    "    \n",
    "'''\n",
    "    "
   ]
  },
  {
   "cell_type": "code",
   "execution_count": 17,
   "id": "f345090c",
   "metadata": {},
   "outputs": [
    {
     "name": "stdout",
     "output_type": "stream",
     "text": [
      "Enter Month:- 2\n",
      "Enter year:- 2002\n",
      "   February 2002\n",
      "Mo Tu We Th Fr Sa Su\n",
      "             1  2  3\n",
      " 4  5  6  7  8  9 10\n",
      "11 12 13 14 15 16 17\n",
      "18 19 20 21 22 23 24\n",
      "25 26 27 28\n",
      "\n"
     ]
    }
   ],
   "source": [
    "'''Q.3 Write a Python program to display calendar\n",
    "\n",
    "    import calendar\n",
    "        try:\n",
    "            class test:\n",
    "                def input_value(self):\n",
    "                    self.a = int(input(\"Enter Month:- \"))\n",
    "                    self.b = int(input(\"Enter year:- \"))\n",
    "                def show_calendar(self):\n",
    "                    print(calendar.month(self.b,self.a))\n",
    "            z = test()\n",
    "            z.input_value()\n",
    "            z.show_calendar()\n",
    "\n",
    "        except Exception as ex:\n",
    "            print(ex)\n",
    "'''"
   ]
  },
  {
   "cell_type": "code",
   "execution_count": 6,
   "id": "4b8ca199",
   "metadata": {},
   "outputs": [
    {
     "name": "stdout",
     "output_type": "stream",
     "text": [
      "a^2x + bx + c\n",
      "\n",
      "\n",
      "Enter coefficient a :-0\n",
      "Enter coefficient b :-1\n",
      "Enter coefficient c :-2\n",
      "\n",
      "\n",
      "Input Correct Quadratic Equations\n"
     ]
    }
   ],
   "source": [
    "'''Q.4 Write a Python program to solve quadratic equation\n",
    "\n",
    "    import math\n",
    "    try:\n",
    "        class test:\n",
    "            def input_coefficent(self):\n",
    "                print(\"a^2x + bx + c\")\n",
    "                print(\"\\n\")\n",
    "                self.a = int(input(\"Enter coefficient a :-\"))\n",
    "                self.b = int(input(\"Enter coefficient b :-\"))\n",
    "                self.c = int(input(\"Enter coefficient c :-\"))\n",
    "            def solve_descriminant(self):\n",
    "                if(self.a == 0):\n",
    "                    print(\"\\n\")\n",
    "                    print(\"Input Correct Quadratic Equations\")\n",
    "                else:\n",
    "                    self.disc = (self.b*self.b - 4*(self.a*self.c))\n",
    "                    self.sq_root = math.sqrt(abs(self.disc))\n",
    "\n",
    "                    if self.disc > 0:\n",
    "                        print(\"There are two real roots\")\n",
    "                        print('\\n')\n",
    "                        print((-self.b + self.sq_root)/(2*self.a))\n",
    "                        print((-self.b - self.sq_root)/(2*self.a))\n",
    "\n",
    "                    elif self.disc == 0:\n",
    "                        print(\"There is only one real root\")\n",
    "                        print(\"\\n\")\n",
    "                        print(-self.b/(2 *self.a))\n",
    "\n",
    "                    else:\n",
    "                        print(\"There are two complex roots\")\n",
    "                        print(\"\\n\")\n",
    "                        print(- self.b / (2 * self.a), \" + i\", self.sq_root)\n",
    "                        print(- self.b / (2 * self.a), \" + i\", self.sq_root)\n",
    "\n",
    "        z = test()\n",
    "        z.input_coefficent()\n",
    "        z.solve_descriminant()\n",
    "    except Exception as ex:\n",
    "        print(ex)\n",
    "\n",
    "'''"
   ]
  },
  {
   "cell_type": "code",
   "execution_count": 8,
   "id": "63fbb39f",
   "metadata": {},
   "outputs": [
    {
     "name": "stdout",
     "output_type": "stream",
     "text": [
      "Enter variable a:- Data Science\n",
      "Enter variable b:- Ineuron\n",
      "\n",
      "\n",
      "variable a:-  Ineuron\n",
      "variable b:-  Data Science\n"
     ]
    }
   ],
   "source": [
    "'''Q.5 Write a Python program to swap two variables without temp variable\n",
    "\n",
    "    try:\n",
    "        class test:\n",
    "            def input_variable(self): \n",
    "                self.a = input(\"Enter variable a:- \")\n",
    "                self.b = input(\"Enter variable b:- \")\n",
    "\n",
    "            def swap_variables(self):\n",
    "                self.a , self.b = self.b , self.a\n",
    "                print(\"\\n\")\n",
    "                print(\"variable a:- \",self.a)\n",
    "                print(\"variable b:- \",self.b)\n",
    "\n",
    "        z = test()\n",
    "        z.input_variable()\n",
    "        z.swap_variables()\n",
    "\n",
    "    except Exception as ex:\n",
    "        print(ex)\n",
    "\n",
    "'''"
   ]
  },
  {
   "cell_type": "code",
   "execution_count": null,
   "id": "7c25a1b6",
   "metadata": {},
   "outputs": [],
   "source": []
  }
 ],
 "metadata": {
  "kernelspec": {
   "display_name": "Python 3",
   "language": "python",
   "name": "python3"
  },
  "language_info": {
   "codemirror_mode": {
    "name": "ipython",
    "version": 3
   },
   "file_extension": ".py",
   "mimetype": "text/x-python",
   "name": "python",
   "nbconvert_exporter": "python",
   "pygments_lexer": "ipython3",
   "version": "3.8.8"
  }
 },
 "nbformat": 4,
 "nbformat_minor": 5
}
