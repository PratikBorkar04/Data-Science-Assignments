{
 "cells": [
  {
   "cell_type": "code",
   "execution_count": 5,
   "id": "f823afd8",
   "metadata": {},
   "outputs": [
    {
     "name": "stdout",
     "output_type": "stream",
     "text": [
      "just right\n"
     ]
    }
   ],
   "source": [
    "'''Q.1\n",
    "    guess_me = 7\n",
    "    if (guess_me < 7):\n",
    "        print(\"too low\")\n",
    "    elif (guess_me == 7):\n",
    "        print(\"just right\")    \n",
    "    else :\n",
    "        print(\"too high\")\n",
    "'''"
   ]
  },
  {
   "cell_type": "code",
   "execution_count": 1,
   "id": "24ebc772",
   "metadata": {},
   "outputs": [
    {
     "name": "stdout",
     "output_type": "stream",
     "text": [
      "too low\n",
      "too low\n",
      "too low\n",
      "too low\n",
      "too low\n",
      "too low\n",
      "found it\n"
     ]
    }
   ],
   "source": [
    "'''Q.2\n",
    "    guess_me = 7\n",
    "    start = 1\n",
    "\n",
    "    while True:\n",
    "        if (start < guess_me):\n",
    "            print(\"too low\")\n",
    "        elif (start == guess_me):\n",
    "            print(\"found it\")\n",
    "            break\n",
    "        else :\n",
    "            print(\"oops\")\n",
    "            break\n",
    "        start = start +1\n",
    "'''"
   ]
  },
  {
   "cell_type": "code",
   "execution_count": 4,
   "id": "84d81dff",
   "metadata": {},
   "outputs": [
    {
     "name": "stdout",
     "output_type": "stream",
     "text": [
      "3\n",
      "2\n",
      "1\n",
      "0\n"
     ]
    }
   ],
   "source": [
    "'''Q.3\n",
    "    ls = [3, 2, 1, 0]\n",
    "    for i in ls:\n",
    "        print(i)\n",
    "'''"
   ]
  },
  {
   "cell_type": "code",
   "execution_count": 15,
   "id": "3553912e",
   "metadata": {},
   "outputs": [
    {
     "data": {
      "text/plain": [
       "[0, 2, 4, 6, 8]"
      ]
     },
     "execution_count": 15,
     "metadata": {},
     "output_type": "execute_result"
    }
   ],
   "source": [
    "'''Q.4\n",
    "    even = [i for i in range(0,10,2)]\n",
    "    even\n",
    "'''"
   ]
  },
  {
   "cell_type": "code",
   "execution_count": 12,
   "id": "dddb764a",
   "metadata": {},
   "outputs": [
    {
     "data": {
      "text/plain": [
       "{0: 0, 1: 1, 2: 4, 3: 9, 4: 16, 5: 25, 6: 36, 7: 49, 8: 64, 9: 81}"
      ]
     },
     "execution_count": 12,
     "metadata": {},
     "output_type": "execute_result"
    }
   ],
   "source": [
    "'''Q.5\n",
    "    {key: key * key for key in range(10)}\n",
    "'''"
   ]
  },
  {
   "cell_type": "code",
   "execution_count": 14,
   "id": "495173fb",
   "metadata": {},
   "outputs": [
    {
     "data": {
      "text/plain": [
       "{1, 3, 5, 7, 9}"
      ]
     },
     "execution_count": 14,
     "metadata": {},
     "output_type": "execute_result"
    }
   ],
   "source": [
    "'''Q.6\n",
    "    odd = {i for i in range(1,10,2)}\n",
    "    odd\n",
    "'''"
   ]
  },
  {
   "cell_type": "code",
   "execution_count": 20,
   "id": "10bb414b",
   "metadata": {},
   "outputs": [
    {
     "name": "stdout",
     "output_type": "stream",
     "text": [
      "Got 0\n",
      "Got 1\n",
      "Got 2\n",
      "Got 3\n",
      "Got 4\n",
      "Got 5\n",
      "Got 6\n",
      "Got 7\n",
      "Got 8\n",
      "Got 9\n"
     ]
    }
   ],
   "source": [
    "'''Q.7\n",
    "    for i in (\"Got %s\" %num for num in range(10)):\n",
    "        print(i)\n",
    "'''"
   ]
  },
  {
   "cell_type": "code",
   "execution_count": 23,
   "id": "1be6052c",
   "metadata": {},
   "outputs": [
    {
     "data": {
      "text/plain": [
       "['Harry', 'Ron', 'Hermione']"
      ]
     },
     "execution_count": 23,
     "metadata": {},
     "output_type": "execute_result"
    }
   ],
   "source": [
    "'''Q.8\n",
    "    def good():\n",
    "        ls = ['Harry','Ron','Hermione']\n",
    "        return ls\n",
    "    good()\n",
    "'''"
   ]
  },
  {
   "cell_type": "code",
   "execution_count": 36,
   "id": "9795c0ae",
   "metadata": {},
   "outputs": [
    {
     "name": "stdout",
     "output_type": "stream",
     "text": [
      "5\n"
     ]
    }
   ],
   "source": [
    "'''Q.9\n",
    "    limit = 10\n",
    "    get_odds = (i for i in range(1,10,2))\n",
    "    count = 0\n",
    "    for j in get_odds :\n",
    "        if count == 2:\n",
    "            print(j)\n",
    "            break\n",
    "        count = count +1\n",
    "'''"
   ]
  },
  {
   "cell_type": "code",
   "execution_count": 42,
   "id": "cc39b5b3",
   "metadata": {},
   "outputs": [
    {
     "name": "stdout",
     "output_type": "stream",
     "text": [
      "Caught an oops\n"
     ]
    }
   ],
   "source": [
    "'''Q.10\n",
    "    class oopsException(Exception):\n",
    "        pass\n",
    "\n",
    "    def cust_exception(a):\n",
    "        if a > 5:\n",
    "            raise oopsException(a)\n",
    "\n",
    "    try :\n",
    "        cust_exception(7)\n",
    "\n",
    "    except oopsException as ex:\n",
    "        print(\"Caught an oops\")\n",
    "'''"
   ]
  },
  {
   "cell_type": "code",
   "execution_count": 45,
   "id": "97125701",
   "metadata": {},
   "outputs": [
    {
     "name": "stdout",
     "output_type": "stream",
     "text": [
      "{'Creature of Habit': 'A nun turns into a monster', 'Crewel Fate': 'A haunted yarn shop'}\n"
     ]
    }
   ],
   "source": [
    "'''Q.11\n",
    "    plots = ['A nun turns into a monster', 'A haunted yarn shop']\n",
    "\n",
    "    movies = {}\n",
    "\n",
    "    for i,j in zip(titles,plots):\n",
    "        movies[i] = j\n",
    "\n",
    "    print(movies)\n",
    "'''"
   ]
  },
  {
   "cell_type": "code",
   "execution_count": null,
   "id": "5c956673",
   "metadata": {},
   "outputs": [],
   "source": []
  }
 ],
 "metadata": {
  "kernelspec": {
   "display_name": "Python 3",
   "language": "python",
   "name": "python3"
  },
  "language_info": {
   "codemirror_mode": {
    "name": "ipython",
    "version": 3
   },
   "file_extension": ".py",
   "mimetype": "text/x-python",
   "name": "python",
   "nbconvert_exporter": "python",
   "pygments_lexer": "ipython3",
   "version": "3.8.8"
  }
 },
 "nbformat": 4,
 "nbformat_minor": 5
}
