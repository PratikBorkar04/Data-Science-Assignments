{
 "cells": [
  {
   "cell_type": "code",
   "execution_count": 7,
   "id": "29ca0ac9",
   "metadata": {},
   "outputs": [
    {
     "name": "stdout",
     "output_type": "stream",
     "text": [
      "Enter a sentence :-Hello World\n"
     ]
    },
    {
     "data": {
      "text/plain": [
       "'Hello World'"
      ]
     },
     "execution_count": 7,
     "metadata": {},
     "output_type": "execute_result"
    }
   ],
   "source": [
    "'''Q.1 :- Python Program to print 'Hello World'\n",
    "\n",
    "    try:\n",
    "        class test:\n",
    "            def input_value(self):\n",
    "                self.a = input('Enter a sentence :-')\n",
    "            def print_value(self):\n",
    "                return self.a\n",
    "                \n",
    "        z = test()\n",
    "        z.input_value()\n",
    "        z.print_value()\n",
    "    except Exception as ex:\n",
    "        print(ex)\n",
    "    \n",
    "'''"
   ]
  },
  {
   "cell_type": "code",
   "execution_count": 23,
   "id": "e56c139e",
   "metadata": {},
   "outputs": [
    {
     "name": "stdout",
     "output_type": "stream",
     "text": [
      "Enter a:- 5\n",
      "Enter b:- 0\n",
      "a + b:-  5\n",
      "ERROR :-  division by zero\n"
     ]
    }
   ],
   "source": [
    "'''Q.2 Write a Python program to do arithmetical operations addition and division.\n",
    "\n",
    "    try:\n",
    "        class test:\n",
    "            def input_value(self):\n",
    "                self.a = int(input('Enter a:- '))\n",
    "                self.b = int(input(\"Enter b:- \"))\n",
    "            def print_value(self):\n",
    "                print(\"a + b:- \",self.a+self.b)\n",
    "                print(\"a / b:- \",self.a/self.b)\n",
    "\n",
    "        z = test()\n",
    "        z.input_value()\n",
    "        z.print_value()\n",
    "    except Exception as ex:\n",
    "        print('ERROR :- ',ex)\n",
    "    \n",
    "'''                     "
   ]
  },
  {
   "cell_type": "code",
   "execution_count": 5,
   "id": "004ec0ff",
   "metadata": {},
   "outputs": [
    {
     "name": "stdout",
     "output_type": "stream",
     "text": [
      "Enter height:- 7\n",
      "Enter base:- 5\n",
      "Area of triangle :-  17.5\n"
     ]
    }
   ],
   "source": [
    "'''Q.3 Write a Python program to find the area of a triangle\n",
    "\n",
    "    try:   \n",
    "        class test:\n",
    "            def input_value(self):\n",
    "                self.a = int(input('Enter height:- '))\n",
    "                self.b = int(input(\"Enter base:- \"))\n",
    "\n",
    "            def area_triangle(self):\n",
    "                c = (0.5*(self.a*self.b))\n",
    "                print(\"Area of triangle :- \",c)\n",
    "\n",
    "        z = test()\n",
    "        z.input_value()\n",
    "        z.area_triangle()\n",
    "    except Exception as ex:\n",
    "        print('ERROR :- ',ex)\n",
    "        \n",
    "'''"
   ]
  },
  {
   "cell_type": "code",
   "execution_count": 7,
   "id": "8b2784a9",
   "metadata": {},
   "outputs": [
    {
     "name": "stdout",
     "output_type": "stream",
     "text": [
      "Enter variable a:- Ineuron\n",
      "Enter variable b:- Data Science\n",
      "\n",
      "\n",
      "variable a:-  Data Science\n",
      "variable b:- Ineuron\n"
     ]
    }
   ],
   "source": [
    "'''Q.4 Write a Python program to swap two variables\n",
    "\n",
    "    try:   \n",
    "        class test:\n",
    "            def input_value(self):\n",
    "                self.a = input('Enter variable a:- ')\n",
    "                self.b = input(\"Enter variable b:- \")\n",
    "\n",
    "            def swap_variables(self):\n",
    "                temp = self.a\n",
    "                self.a = self.b\n",
    "                self.b = temp\n",
    "                print('\\n')\n",
    "                print(\"variable a:- \",self.a)\n",
    "                print(\"variable b:-\",self.b)\n",
    "\n",
    "        z = test()\n",
    "        z.input_value()\n",
    "        z.swap_variables()\n",
    "    except Exception as ex:\n",
    "        print('ERROR :- ',ex)\n",
    "        \n",
    "'''"
   ]
  },
  {
   "cell_type": "code",
   "execution_count": 12,
   "id": "9954e77f",
   "metadata": {},
   "outputs": [
    {
     "name": "stdout",
     "output_type": "stream",
     "text": [
      "9\n",
      "3\n"
     ]
    }
   ],
   "source": [
    "'''Q.5 Write a Python program to generate a random number\n",
    "\n",
    "    import random\n",
    "    try:\n",
    "        class test:\n",
    "            def generate_Random(self):\n",
    "                print(random.randint(0,9))\n",
    "                print(random.randint(0,9))\n",
    "        z = test()\n",
    "        z.generate_Random()\n",
    "    except Exception as ex:\n",
    "        print(ex)\n",
    "        \n",
    "'''"
   ]
  },
  {
   "cell_type": "code",
   "execution_count": null,
   "id": "8d823942",
   "metadata": {},
   "outputs": [],
   "source": []
  }
 ],
 "metadata": {
  "kernelspec": {
   "display_name": "Python 3",
   "language": "python",
   "name": "python3"
  },
  "language_info": {
   "codemirror_mode": {
    "name": "ipython",
    "version": 3
   },
   "file_extension": ".py",
   "mimetype": "text/x-python",
   "name": "python",
   "nbconvert_exporter": "python",
   "pygments_lexer": "ipython3",
   "version": "3.8.8"
  }
 },
 "nbformat": 4,
 "nbformat_minor": 5
}
