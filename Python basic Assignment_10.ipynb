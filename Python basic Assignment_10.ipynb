{
 "cells": [
  {
   "cell_type": "code",
   "execution_count": null,
   "id": "3af56194",
   "metadata": {},
   "outputs": [],
   "source": [
    "'''Q.1.\n",
    "    shutil.copy() :- It used to copy the content of source file to destination.\n",
    "    shutil.copytree() :- It is used to copy an entire directory from source to destination.\n",
    "'''"
   ]
  },
  {
   "cell_type": "code",
   "execution_count": null,
   "id": "c0327fd8",
   "metadata": {},
   "outputs": [],
   "source": [
    "'''Q.2\n",
    "    os.rename()\n",
    "'''"
   ]
  },
  {
   "cell_type": "code",
   "execution_count": null,
   "id": "f904ad54",
   "metadata": {},
   "outputs": [],
   "source": [
    "'''Q.3\n",
    "    send2trash it is a package which is used to send any file or directory to trash/recycle bin.\n",
    "    shutil.rmtree it is a module which delete an entire directory.\n",
    "'''"
   ]
  },
  {
   "cell_type": "code",
   "execution_count": null,
   "id": "49a6d322",
   "metadata": {},
   "outputs": [],
   "source": [
    "'''Q.4\n",
    "    zipfile.open(name,mode='')\n",
    "'''"
   ]
  },
  {
   "cell_type": "code",
   "execution_count": 29,
   "id": "ace44a6e",
   "metadata": {},
   "outputs": [
    {
     "name": "stdout",
     "output_type": "stream",
     "text": [
      "Enter extinsion Example(.txt).txt\n",
      "\n",
      "Source path :- C:\\Users\\HP\\Data Science\\Data Science Assignment\\ABCD.txt\n",
      "\n",
      "After copying file:\n",
      "['.ipynb_checkpoints', 'ABCD.txt', 'Classes and objects.ipynb', 'Data Science Assignment', 'Exception Handling.ipynb', 'File operations.ipynb', 'for loop , if - else.ipynb', 'Function [ args , kwargs] , List comprehension , iterator , iterable ,generator.ipynb', 'Function.ipynb', 'google.txt', 'Logging , BASE 10 ERROR.ipynb', 'Module.ipynb', 'Questions on for,while loop.ipynb', 'test.log', 'test.txt', 'test1.py', 'test2.log', 'test2.py', 'test2.txt', 'test3.log', 'test4.txt', 'Tuples dic set.ipynb', 'Untitled.ipynb', 'While loop.ipynb', '__pycache__']\n",
      "\n",
      "Destination path: C:/Users/HP/Data Science\\ABCD.txt\n",
      "\n",
      "Source path :- C:\\Users\\HP\\Data Science\\Data Science Assignment\\XYZ.txt\n",
      "\n",
      "After copying file:\n",
      "['.ipynb_checkpoints', 'ABCD.txt', 'Classes and objects.ipynb', 'Data Science Assignment', 'Exception Handling.ipynb', 'File operations.ipynb', 'for loop , if - else.ipynb', 'Function [ args , kwargs] , List comprehension , iterator , iterable ,generator.ipynb', 'Function.ipynb', 'google.txt', 'Logging , BASE 10 ERROR.ipynb', 'Module.ipynb', 'Questions on for,while loop.ipynb', 'test.log', 'test.txt', 'test1.py', 'test2.log', 'test2.py', 'test2.txt', 'test3.log', 'test4.txt', 'Tuples dic set.ipynb', 'Untitled.ipynb', 'While loop.ipynb', 'XYZ.txt', '__pycache__']\n",
      "\n",
      "Destination path: C:/Users/HP/Data Science\\XYZ.txt\n"
     ]
    }
   ],
   "source": [
    "'''Q.5\n",
    "Create a programme that searches a folder tree for files with a certain file extension (such as .pdf or .jpg). \n",
    "Copy these files from whatever location they are in to a new folder.\n",
    "'''\n",
    "\n",
    "import os\n",
    "import shutil\n",
    "\n",
    "a = os.listdir()\n",
    "l1 = []\n",
    "\n",
    "#Input and append operation\n",
    "try :\n",
    "    n = input(\"Enter extension Example(.txt) :-\")\n",
    "    for i in a:\n",
    "        if i.endswith(n):\n",
    "            l1.append(i)\n",
    "\n",
    "except Exception as ex:\n",
    "    print(ex)\n",
    "\n",
    "print(\"\\n\",l1)\n",
    "#For list elements\n",
    "z = len(l1)\n",
    "for i in range(z):\n",
    "    pythonfile = l1[i]\n",
    "    \n",
    "    #Copy the content of sourc to destination\n",
    "    try:\n",
    "        source =  os.path.abspath(pythonfile)\n",
    "\n",
    "        destination = \"C:/Users/HP/Data Science\"\n",
    "\n",
    "        dest = shutil.copy(source, destination)\n",
    "\n",
    "    except Exception as ex:\n",
    "        print(ex)\n",
    "        \n",
    "    print(\"\\nSource path :-\",source)\n",
    "    \n",
    "    print(\"\\nAfter copying file:\")\n",
    "    print(os.listdir(destination))\n",
    "\n",
    "    print(\"\\nDestination path:\", dest)\n"
   ]
  },
  {
   "cell_type": "code",
   "execution_count": null,
   "id": "f287bc59",
   "metadata": {},
   "outputs": [],
   "source": []
  }
 ],
 "metadata": {
  "kernelspec": {
   "display_name": "Python 3",
   "language": "python",
   "name": "python3"
  },
  "language_info": {
   "codemirror_mode": {
    "name": "ipython",
    "version": 3
   },
   "file_extension": ".py",
   "mimetype": "text/x-python",
   "name": "python",
   "nbconvert_exporter": "python",
   "pygments_lexer": "ipython3",
   "version": "3.8.8"
  }
 },
 "nbformat": 4,
 "nbformat_minor": 5
}
