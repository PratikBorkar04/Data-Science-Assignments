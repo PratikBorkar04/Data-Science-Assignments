{
 "cells": [
  {
   "cell_type": "code",
   "execution_count": null,
   "id": "0c0af04b",
   "metadata": {},
   "outputs": [],
   "source": [
    "'''Q.1\n",
    "    d = {}\n",
    "'''"
   ]
  },
  {
   "cell_type": "code",
   "execution_count": null,
   "id": "14e9fdd0",
   "metadata": {},
   "outputs": [],
   "source": [
    "'''Q.2\n",
    "    d = {'foo':42}\n",
    "    d.values()\n",
    "    dict_values([42])\n",
    "'''"
   ]
  },
  {
   "cell_type": "code",
   "execution_count": 5,
   "id": "e4308635",
   "metadata": {},
   "outputs": [],
   "source": [
    "'''Q.3\n",
    "    dictionary contains key value pair, elements can be access through values.\n",
    "    list contains index values, elements can be access by index numbers.\n",
    "'''"
   ]
  },
  {
   "cell_type": "code",
   "execution_count": null,
   "id": "0c6fce3c",
   "metadata": {},
   "outputs": [],
   "source": [
    "'''Q.4\n",
    "    spam = {'bar':100}\n",
    "    spam[\"foo\"]\n",
    "    \n",
    "    KEY ERROR\n",
    "'''"
   ]
  },
  {
   "cell_type": "code",
   "execution_count": 8,
   "id": "dbacd057",
   "metadata": {},
   "outputs": [],
   "source": [
    "'''Q.5\n",
    "    No main difference it only checks value exist as a key or not\n",
    "'''"
   ]
  },
  {
   "cell_type": "code",
   "execution_count": null,
   "id": "8635cb85",
   "metadata": {},
   "outputs": [],
   "source": [
    "'''Q.6\n",
    "      cat in spam checkes whether cat is in form of key or not.\n",
    "      spam.values() check whether cat is in form of value or not.\n",
    "'''"
   ]
  },
  {
   "cell_type": "code",
   "execution_count": null,
   "id": "7b600f5d",
   "metadata": {},
   "outputs": [],
   "source": [
    "'''Q.7\n",
    "    spam.setdefault('color', 'black')\n",
    "'''"
   ]
  },
  {
   "cell_type": "code",
   "execution_count": null,
   "id": "648dea0a",
   "metadata": {},
   "outputs": [],
   "source": [
    "'''Q.8\n",
    "    from pprint import pprint \n",
    "    pprint()\n",
    "    \n",
    "    or\n",
    "    \n",
    "    import pprint\n",
    "    pprint.pprint()\n",
    "'''\n"
   ]
  },
  {
   "cell_type": "code",
   "execution_count": null,
   "id": "3a9326d4",
   "metadata": {},
   "outputs": [],
   "source": []
  }
 ],
 "metadata": {
  "kernelspec": {
   "display_name": "Python 3",
   "language": "python",
   "name": "python3"
  },
  "language_info": {
   "codemirror_mode": {
    "name": "ipython",
    "version": 3
   },
   "file_extension": ".py",
   "mimetype": "text/x-python",
   "name": "python",
   "nbconvert_exporter": "python",
   "pygments_lexer": "ipython3",
   "version": "3.8.8"
  }
 },
 "nbformat": 4,
 "nbformat_minor": 5
}
