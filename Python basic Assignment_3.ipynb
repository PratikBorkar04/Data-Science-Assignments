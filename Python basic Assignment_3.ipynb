{
 "cells": [
  {
   "cell_type": "code",
   "execution_count": null,
   "id": "0c1e811d",
   "metadata": {},
   "outputs": [],
   "source": [
    "'''Q.1\n",
    "By using functions, we can avoid rewriting same logic/code again and again in a program.\n",
    "We can call any functions n number of times.\n",
    "'''"
   ]
  },
  {
   "cell_type": "code",
   "execution_count": null,
   "id": "f859c6d2",
   "metadata": {},
   "outputs": [],
   "source": [
    "'''Q.2\n",
    "The code in the function runs when its called.\n",
    "'''"
   ]
  },
  {
   "cell_type": "code",
   "execution_count": null,
   "id": "8ed7a2f6",
   "metadata": {},
   "outputs": [],
   "source": [
    "'''Q.3\n",
    "def keywoard statement creates any function\n",
    "    example:- def test(a):\n",
    "                return a\n",
    "\n",
    "'''"
   ]
  },
  {
   "cell_type": "code",
   "execution_count": null,
   "id": "01de189c",
   "metadata": {},
   "outputs": [],
   "source": [
    "'''Q.4\n",
    "funtion :- def test(a):\n",
    "                return a\n",
    "        \n",
    "       --- test function is created ---\n",
    "       \n",
    "function call :- test(\"ineuron\")\n",
    " \n",
    "     --- function is call with parameter name ineuron\n",
    "'''"
   ]
  },
  {
   "cell_type": "code",
   "execution_count": null,
   "id": "44926f06",
   "metadata": {},
   "outputs": [],
   "source": [
    "'''Q.5\n",
    "There is only one global and local scope in python\n",
    "'''"
   ]
  },
  {
   "cell_type": "code",
   "execution_count": 1,
   "id": "d3cb9960",
   "metadata": {},
   "outputs": [],
   "source": [
    "'''Q.6\n",
    "Local variables are destroyed when the function call returns.\n",
    "'''"
   ]
  },
  {
   "cell_type": "code",
   "execution_count": 3,
   "id": "93797a8a",
   "metadata": {},
   "outputs": [],
   "source": [
    "'''Q.7\n",
    "return value :-  A return value can be any one of the four variable types: handle, integer, object, or string,\n",
    "                It is possible to return a value in an expression.\n",
    "\n",
    "'''"
   ]
  },
  {
   "cell_type": "code",
   "execution_count": null,
   "id": "87f6a957",
   "metadata": {},
   "outputs": [],
   "source": [
    "'''Q.8\n",
    "If any function does not have a return statement then its return value is NONE.\n",
    "'''"
   ]
  },
  {
   "cell_type": "code",
   "execution_count": null,
   "id": "94395211",
   "metadata": {},
   "outputs": [],
   "source": [
    "'''Q.9\n",
    "    By using global keyword\n",
    "    Example :-\n",
    "       def test(x):\n",
    "           global x\n",
    "           x = \"ineuron\"\n",
    "        \n",
    "    test()\n",
    "        \n",
    "'''"
   ]
  },
  {
   "cell_type": "code",
   "execution_count": 6,
   "id": "42e1143a",
   "metadata": {},
   "outputs": [],
   "source": [
    "'''Q.10\n",
    "    Data type of None is NoneType.\n",
    "'''"
   ]
  },
  {
   "cell_type": "code",
   "execution_count": null,
   "id": "d3988730",
   "metadata": {},
   "outputs": [],
   "source": [
    "'''Q.11\n",
    "    import areallyourpetsnamederic\n",
    "    \n",
    "    import is a reserve keyword in java so it will import module name areallyourpetsnamederic\n",
    "'''"
   ]
  },
  {
   "cell_type": "code",
   "execution_count": null,
   "id": "2f0428ce",
   "metadata": {},
   "outputs": [],
   "source": [
    "'''Q.12\n",
    "    Ans :- spam.bacon()\n",
    "'''"
   ]
  },
  {
   "cell_type": "code",
   "execution_count": null,
   "id": "7dcf0d6f",
   "metadata": {},
   "outputs": [],
   "source": [
    "'''Q.13\n",
    "    Ans :- try except block\n",
    "'''"
   ]
  },
  {
   "cell_type": "code",
   "execution_count": null,
   "id": "c505a539",
   "metadata": {},
   "outputs": [],
   "source": [
    "'''Q.14\n",
    "    The try block lets you test a block of code for errors.\n",
    "\n",
    "    The except block lets you handle the error.\n",
    "    \n",
    "'''"
   ]
  }
 ],
 "metadata": {
  "kernelspec": {
   "display_name": "Python 3",
   "language": "python",
   "name": "python3"
  },
  "language_info": {
   "codemirror_mode": {
    "name": "ipython",
    "version": 3
   },
   "file_extension": ".py",
   "mimetype": "text/x-python",
   "name": "python",
   "nbconvert_exporter": "python",
   "pygments_lexer": "ipython3",
   "version": "3.8.8"
  }
 },
 "nbformat": 4,
 "nbformat_minor": 5
}
