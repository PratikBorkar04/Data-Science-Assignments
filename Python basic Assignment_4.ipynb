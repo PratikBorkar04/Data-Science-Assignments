{
 "cells": [
  {
   "cell_type": "code",
   "execution_count": null,
   "id": "acddf24c",
   "metadata": {},
   "outputs": [],
   "source": [
    "'''Q.1\n",
    "[] = it is an empty list which contains no itmes.\n",
    "'''"
   ]
  },
  {
   "cell_type": "code",
   "execution_count": null,
   "id": "c0536683",
   "metadata": {},
   "outputs": [],
   "source": [
    "'''Q.2\n",
    "spam = [2,4,6,8,10]\n",
    "hello = spam[2] \n",
    "'''"
   ]
  },
  {
   "cell_type": "code",
   "execution_count": null,
   "id": "f9d140a0",
   "metadata": {},
   "outputs": [],
   "source": [
    "'''Q.3\n",
    "    int('3' *2) = 33\n",
    "    33 / 11 = 3\n",
    "    spam[int(int('3' * 2) / 11)]\n",
    "    spam[3] = 8\n",
    "'''"
   ]
  },
  {
   "cell_type": "code",
   "execution_count": null,
   "id": "0a43c506",
   "metadata": {},
   "outputs": [],
   "source": [
    "'''Q.4\n",
    "    spam[-1] = 10\n",
    "'''"
   ]
  },
  {
   "cell_type": "code",
   "execution_count": null,
   "id": "cf69bb71",
   "metadata": {},
   "outputs": [],
   "source": [
    "'''Q.5\n",
    "    spam[:2] = [2, 4]\n",
    "'''"
   ]
  },
  {
   "cell_type": "code",
   "execution_count": null,
   "id": "935793eb",
   "metadata": {},
   "outputs": [],
   "source": [
    "'''Q.6\n",
    "    bacon = [3.14,'cat', '11', 'cat',True]\n",
    "    bacon.index('cat') = 1\n",
    "'''"
   ]
  },
  {
   "cell_type": "code",
   "execution_count": null,
   "id": "628f252f",
   "metadata": {},
   "outputs": [],
   "source": [
    "'''Q.7\n",
    "    bacon.append(99)\n",
    "    [3.14, 'cat', '11', 'cat', True, 99]\n",
    "'''"
   ]
  },
  {
   "cell_type": "code",
   "execution_count": 12,
   "id": "a4783f30",
   "metadata": {},
   "outputs": [],
   "source": [
    "'''Q.8\n",
    "    bacon.remove('cat')\n",
    "    [3.14, '11', 'cat', True, 99]\n",
    "'''"
   ]
  },
  {
   "cell_type": "code",
   "execution_count": null,
   "id": "f8d61dc5",
   "metadata": {},
   "outputs": [],
   "source": [
    "'''Q.9\n",
    "    concatination operator =  +\n",
    "    replication operator = *\n",
    "'''"
   ]
  },
  {
   "cell_type": "code",
   "execution_count": null,
   "id": "fa00ae96",
   "metadata": {},
   "outputs": [],
   "source": [
    "'''Q.10\n",
    "    append =  add element at the end of the list.\n",
    "    insert =  insert element in the list according to its index number.\n",
    "'''"
   ]
  },
  {
   "cell_type": "code",
   "execution_count": null,
   "id": "4b5dcb52",
   "metadata": {},
   "outputs": [],
   "source": [
    "'''Q.11\n",
    "    Ans = del , remove()\n",
    "    Example :- del bacon[0]\n",
    "                bacon.remove('3.14')\n",
    "'''"
   ]
  },
  {
   "cell_type": "code",
   "execution_count": null,
   "id": "0fe7fb58",
   "metadata": {},
   "outputs": [],
   "source": [
    "'''Q.12\n",
    "    both list and strings can be concatinated , they both used for loops .\n",
    "'''"
   ]
  },
  {
   "cell_type": "code",
   "execution_count": null,
   "id": "65978ecb",
   "metadata": {},
   "outputs": [],
   "source": [
    "'''Q.13\n",
    "    Lists are mutable entity and tuples are immutable entity\n",
    "    list = []\n",
    "    tuple = ()\n",
    "'''"
   ]
  },
  {
   "cell_type": "code",
   "execution_count": null,
   "id": "90d2854a",
   "metadata": {},
   "outputs": [],
   "source": [
    "'''Q.14\n",
    "  a = (42,)\n",
    "  type(a) = tuple\n",
    "'''"
   ]
  },
  {
   "cell_type": "code",
   "execution_count": null,
   "id": "4fa418cb",
   "metadata": {},
   "outputs": [],
   "source": [
    "'''Q.15\n",
    "    list to tuple :-\n",
    "        a = [1,2,34]\n",
    "        tuple(a)\n",
    "        \n",
    "    tuple to list :-\n",
    "        b = (2,3,4,5)\n",
    "        list(b)\n",
    "'''"
   ]
  },
  {
   "cell_type": "code",
   "execution_count": null,
   "id": "94ffe010",
   "metadata": {},
   "outputs": [],
   "source": [
    "'''Q.16\n",
    "    They contain references of list values.\n",
    "'''"
   ]
  },
  {
   "cell_type": "code",
   "execution_count": null,
   "id": "48fbbdda",
   "metadata": {},
   "outputs": [],
   "source": [
    "'''Q.17\n",
    "    copy.copy() = will create replica of a list.\n",
    "    copy.deepcopy() = create duplicates of nested lists.\n",
    "    Example :- \n",
    "        import copy\n",
    "        ls = [12,3,4,5,66,[1,2]]\n",
    "        a = copy.deepcopy(ls)\n",
    "        z = copy.copy(ls)\n",
    "        ls[5][1] = \"ineuron\"\n",
    "        print(ls)\n",
    "        print(a)\n",
    "        print(z)\n",
    "        \n",
    "        output:-\n",
    "            [12, 3, 4, 5, 66, [1, 'ineuron']]\n",
    "            [12, 3, 4, 5, 66, [1, 2]]\n",
    "            [12, 3, 4, 5, 66, [1, 'ineuron']]\n",
    "'''"
   ]
  },
  {
   "cell_type": "code",
   "execution_count": null,
   "id": "75e2e9c2",
   "metadata": {},
   "outputs": [],
   "source": []
  }
 ],
 "metadata": {
  "kernelspec": {
   "display_name": "Python 3",
   "language": "python",
   "name": "python3"
  },
  "language_info": {
   "codemirror_mode": {
    "name": "ipython",
    "version": 3
   },
   "file_extension": ".py",
   "mimetype": "text/x-python",
   "name": "python",
   "nbconvert_exporter": "python",
   "pygments_lexer": "ipython3",
   "version": "3.8.8"
  }
 },
 "nbformat": 4,
 "nbformat_minor": 5
}
