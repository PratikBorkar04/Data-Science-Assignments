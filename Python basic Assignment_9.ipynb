{
 "cells": [
  {
   "cell_type": "code",
   "execution_count": null,
   "id": "9f286257",
   "metadata": {},
   "outputs": [],
   "source": [
    "'''Q.1 \n",
    "    Relative path refers path of current directory\n",
    "'''"
   ]
  },
  {
   "cell_type": "code",
   "execution_count": null,
   "id": "157a0fbd",
   "metadata": {},
   "outputs": [],
   "source": [
    "'''Q.2\n",
    "    starting from the root element and ending with the other subdirectories.\n",
    "'''"
   ]
  },
  {
   "cell_type": "code",
   "execution_count": null,
   "id": "1fba0594",
   "metadata": {},
   "outputs": [],
   "source": [
    "'''Q.3\n",
    "    getcwd() :- gives curent working directory\n",
    "    chdir() :- It is used to change directory\n",
    "'''"
   ]
  },
  {
   "cell_type": "code",
   "execution_count": null,
   "id": "bc258f60",
   "metadata": {},
   "outputs": [],
   "source": [
    "'''Q.4\n",
    "    . = current directory\n",
    "    .. = Parent Directory\n",
    "'''"
   ]
  },
  {
   "cell_type": "code",
   "execution_count": null,
   "id": "b85c8c46",
   "metadata": {},
   "outputs": [],
   "source": [
    "'''Q.5\n",
    "     dir name = C:\\bacon\\eggs \n",
    "     base name = spam.txt \n",
    "'''"
   ]
  },
  {
   "cell_type": "code",
   "execution_count": null,
   "id": "218fa034",
   "metadata": {},
   "outputs": [],
   "source": [
    "'''Q.6\n",
    "    Three modes are :\n",
    "    1. read\n",
    "    2. write\n",
    "    3. append\n",
    "'''"
   ]
  },
  {
   "cell_type": "code",
   "execution_count": null,
   "id": "3e7404c1",
   "metadata": {},
   "outputs": [],
   "source": [
    "'''Q.7\n",
    "    The old data will be erased and new data will be overwritten\n",
    "'''"
   ]
  },
  {
   "cell_type": "code",
   "execution_count": null,
   "id": "1a98c17e",
   "metadata": {},
   "outputs": [],
   "source": [
    "'''Q.8\n",
    "    read will return line by line in the form of string\n",
    "    readline return entire content in the form of list of strings.\n",
    "'''"
   ]
  },
  {
   "cell_type": "code",
   "execution_count": null,
   "id": "f98fc6ff",
   "metadata": {},
   "outputs": [],
   "source": [
    "'''Q.9\n",
    "    It similar to dictionary which contains key() and values() methods\n",
    "'''"
   ]
  },
  {
   "cell_type": "code",
   "execution_count": null,
   "id": "d68e3750",
   "metadata": {},
   "outputs": [],
   "source": []
  }
 ],
 "metadata": {
  "kernelspec": {
   "display_name": "Python 3",
   "language": "python",
   "name": "python3"
  },
  "language_info": {
   "codemirror_mode": {
    "name": "ipython",
    "version": 3
   },
   "file_extension": ".py",
   "mimetype": "text/x-python",
   "name": "python",
   "nbconvert_exporter": "python",
   "pygments_lexer": "ipython3",
   "version": "3.8.8"
  }
 },
 "nbformat": 4,
 "nbformat_minor": 5
}
