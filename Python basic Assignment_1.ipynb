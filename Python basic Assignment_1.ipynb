{
 "cells": [
  {
   "cell_type": "code",
   "execution_count": null,
   "id": "2159c82b",
   "metadata": {},
   "outputs": [],
   "source": [
    "'''Q.1\n",
    "Expressions :\n",
    "    1. *\n",
    "    2. -\n",
    "    3. /\n",
    "    4. +\n",
    "Values :\n",
    "    1. 'hello'\n",
    "    2. -87.8\n",
    "    3. 6 '''"
   ]
  },
  {
   "cell_type": "code",
   "execution_count": null,
   "id": "2e19e3f2",
   "metadata": {},
   "outputs": [],
   "source": [
    "'''Q.2\n",
    "String :-\n",
    "    A string is a sequence of characters\n",
    "        Example :- \"Hello\"\n",
    "Variable :-\n",
    "    A variable which has no data type and which is use to hold value\n",
    "        Example :- variable can hold a string value ,\n",
    "                    x = \"Hello\"\n",
    "                    x is holding Hello\n",
    "'''"
   ]
  },
  {
   "cell_type": "code",
   "execution_count": null,
   "id": "e587c308",
   "metadata": {},
   "outputs": [],
   "source": [
    "'''Q.3\n",
    "Three different data types:-\n",
    "    1.Numeric:-\n",
    "        data which has numeric values , these values are integer , float ,complex\n",
    "    2.boolean:-\n",
    "        which returns true or false \n",
    "    3.sequence type :-\n",
    "        which holds order of collection , different types of collections are :- String , list , tuple\n",
    "\n",
    "'''"
   ]
  },
  {
   "cell_type": "code",
   "execution_count": null,
   "id": "4b7ac9c9",
   "metadata": {},
   "outputs": [],
   "source": [
    "'''Q.4\n",
    "Expressions :- Expression is a combination of operators and operands , they are interpreted to produce another value\n",
    "    Examples:-\n",
    "        1. Constant Expressions:-\n",
    "            x = 1 + 1.5 = 2.5\n",
    "        2. Arithmetic Expressions:-\n",
    "            x = 6 , y = 5\n",
    "            add = x + y \n",
    "'''"
   ]
  },
  {
   "cell_type": "code",
   "execution_count": null,
   "id": "3c0edccf",
   "metadata": {},
   "outputs": [],
   "source": [
    "'''Q.5\n",
    "    Expressions :- Expression is a combination of operators and operands , they are interpreted to produce another value\n",
    "        Example :- x = 1 + 2 = 3\n",
    "    Statement :- order/command given to a computer is a statement\n",
    "        Example :-  [ break ] \n",
    "                    a = 1\n",
    "                    while a < 4:\n",
    "                        print(a)\n",
    "                        if a == 3:\n",
    "                            break\n",
    "                        a = a + 1\n",
    "'''"
   ]
  },
  {
   "cell_type": "code",
   "execution_count": 4,
   "id": "ddc5fa2c",
   "metadata": {},
   "outputs": [
    {
     "data": {
      "text/plain": [
       "23"
      ]
     },
     "execution_count": 4,
     "metadata": {},
     "output_type": "execute_result"
    }
   ],
   "source": [
    "'''Q.6\n",
    "    bacon = 22\n",
    "    bacon + 1 \n",
    "    ANS :- 23\n",
    "'''"
   ]
  },
  {
   "cell_type": "code",
   "execution_count": null,
   "id": "66be020a",
   "metadata": {},
   "outputs": [],
   "source": [
    "'''Q.7\n",
    "    1.\"spam\" + \"spamspam\" = 'spamspamspam'\n",
    "    2.\"spam\" *3 = 'spamspamspam'\n",
    "'''"
   ]
  },
  {
   "cell_type": "code",
   "execution_count": null,
   "id": "276044d6",
   "metadata": {},
   "outputs": [],
   "source": [
    "'''Q.8\n",
    "   * varaible must begin with character but they can't be number\n",
    "   Therfore,\n",
    "       eggs a valid variable name while 100 is invalid.\n",
    "'''"
   ]
  },
  {
   "cell_type": "code",
   "execution_count": null,
   "id": "5bfad42e",
   "metadata": {},
   "outputs": [],
   "source": [
    "'''Q.9\n",
    "    Three functions are:-\n",
    "    1. int()\n",
    "    2. float()\n",
    "    3. str()\n",
    "'''"
   ]
  },
  {
   "cell_type": "code",
   "execution_count": 10,
   "id": "27be4426",
   "metadata": {},
   "outputs": [
    {
     "data": {
      "text/plain": [
       "'I have eaten 99 burritos.'"
      ]
     },
     "execution_count": 10,
     "metadata": {},
     "output_type": "execute_result"
    }
   ],
   "source": [
    "'''Q.10\n",
    "    a = I have eaten '+ 99 +' burritos.'\n",
    "    Error :- You can't concatinate string and integer\n",
    "    Solution :- Convert integer to string \n",
    "    a = 'I have eaten '+ '99' +' burritos.'\n",
    "'''\n",
    "a = 'I have eaten '+ '99' +' burritos.'\n",
    "print(a) "
   ]
  },
  {
   "cell_type": "code",
   "execution_count": null,
   "id": "c10de9d4",
   "metadata": {},
   "outputs": [],
   "source": []
  }
 ],
 "metadata": {
  "kernelspec": {
   "display_name": "Python 3",
   "language": "python",
   "name": "python3"
  },
  "language_info": {
   "codemirror_mode": {
    "name": "ipython",
    "version": 3
   },
   "file_extension": ".py",
   "mimetype": "text/x-python",
   "name": "python",
   "nbconvert_exporter": "python",
   "pygments_lexer": "ipython3",
   "version": "3.8.8"
  }
 },
 "nbformat": 4,
 "nbformat_minor": 5
}
