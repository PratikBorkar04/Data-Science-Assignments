{
 "cells": [
  {
   "cell_type": "code",
   "execution_count": 6,
   "id": "9877d281",
   "metadata": {},
   "outputs": [
    {
     "name": "stdout",
     "output_type": "stream",
     "text": [
      "Enter a number :- 10\n",
      "Fibonacci series:-\n",
      "0\n",
      "1\n",
      "1\n",
      "2\n",
      "3\n",
      "5\n",
      "8\n",
      "13\n",
      "21\n",
      "34\n"
     ]
    }
   ],
   "source": [
    "'''Q.1 Write a Python Program to Display Fibonacci Sequence Using Recursion\n",
    "\n",
    "    def fiboo(n):\n",
    "        try:\n",
    "            if n <= 1:\n",
    "                return n\n",
    "            else:\n",
    "                return (fiboo(n-1) + fiboo(n-2))\n",
    "        except Exception as ex:\n",
    "            print(ex)\n",
    "    try:        \n",
    "        num = int(input(\"Enter a number :- \"))\n",
    "        if num <=0:\n",
    "            print(\"Enter +ve number\")\n",
    "        else:\n",
    "            print(\"Fibonacci series:-\")\n",
    "            for i in range(num):\n",
    "                print(fiboo(i))\n",
    "    except Exception as ex:\n",
    "            print(ex) \n",
    "\n",
    "'''"
   ]
  },
  {
   "cell_type": "code",
   "execution_count": 11,
   "id": "e0a7b567",
   "metadata": {},
   "outputs": [
    {
     "name": "stdout",
     "output_type": "stream",
     "text": [
      "Enter a number :- 7\n",
      "The Factorial of 7 is 5040\n"
     ]
    }
   ],
   "source": [
    "'''Q.2 Write a Python Program to Find Factorial of Number Using Recursion\n",
    "\n",
    "    def factor(n):\n",
    "        if n == 1:\n",
    "            return n \n",
    "        else:\n",
    "            return  n*factor(n-1)\n",
    "    try:        \n",
    "            num = int(input(\"Enter a number :- \"))\n",
    "            if num <=0:\n",
    "                print(\"Enter +ve number\")\n",
    "            elif num == 0:\n",
    "                print(\"Factorial of 0 is 1:-\")\n",
    "            else:\n",
    "                print('The Factorial of', num ,'is',factor(num))\n",
    "\n",
    "    except Exception as ex:\n",
    "        print(ex) \n",
    "\n",
    "'''"
   ]
  },
  {
   "cell_type": "code",
   "execution_count": 37,
   "id": "d4e24cd2",
   "metadata": {},
   "outputs": [
    {
     "name": "stdout",
     "output_type": "stream",
     "text": [
      "Enter height in CM:- 168\n",
      "Enter Weight in KG:- 63\n",
      "Normal\n"
     ]
    }
   ],
   "source": [
    "'''Q.3 Write a Python Program to calculate your Body Mass Index\n",
    "\n",
    "class test:\n",
    "    def calculate_BMI(self):\n",
    "        try:\n",
    "            self.height = int(input(\"Enter height in CM:- \"))\n",
    "            self.weight = int(input(\"Enter Weight in KG:- \"))\n",
    "            \n",
    "            self.hmeter = ((self.height * self.height)/100)\n",
    "          \n",
    "            self.BMI = float(self.weight / self.hmeter)*100\n",
    "            \n",
    "            if self.BMI <= 18.5:\n",
    "                print('underwight')\n",
    "        \n",
    "            elif self.BMI <= 24.9:\n",
    "                print(\"Normal\")\n",
    "            \n",
    "            elif self.BMI <= 29.9:\n",
    "                print(\"OverWeight\")\n",
    "                \n",
    "            else:\n",
    "                print(\"Very OverWight\")\n",
    "        except Exception as ex:\n",
    "            print(ex)\n",
    "z = test()\n",
    "z.calculate_BMI()\n",
    "\n",
    "    '''"
   ]
  },
  {
   "cell_type": "code",
   "execution_count": 38,
   "id": "c66123f5",
   "metadata": {},
   "outputs": [
    {
     "name": "stdout",
     "output_type": "stream",
     "text": [
      "Enter a number:- 14\n",
      "log of 14 is 2.6390573296152584\n"
     ]
    }
   ],
   "source": [
    "'''Q.4 Write a Python Program to calculate the natural logarithm of any number\n",
    "\n",
    "    import math\n",
    "    class test:\n",
    "        def log(self):\n",
    "            try:\n",
    "                self.num = int(input('Enter a number:- '))\n",
    "                print('log of',self.num,'is',math.log(self.num))\n",
    "            except Exception as ex:\n",
    "                print(ex)\n",
    "    z = test()\n",
    "    z.log()\n",
    "\n",
    "'''"
   ]
  },
  {
   "cell_type": "code",
   "execution_count": 47,
   "id": "cacf843b",
   "metadata": {},
   "outputs": [
    {
     "name": "stdout",
     "output_type": "stream",
     "text": [
      "Enter a number :-5\n",
      "sum of cube of 5 natural number is 225\n"
     ]
    }
   ],
   "source": [
    "'''Q.5 Write a Python Program for cube sum of first n natural numbers\n",
    "\n",
    "    class test:\n",
    "        def cub_sum(self):\n",
    "            try:\n",
    "                self.num = int(input(\"Enter a number :-\"))\n",
    "                self.count = 0\n",
    "                for i in range(1,self.num+1):\n",
    "                    self.count = self.count + i * i * i\n",
    "                print(\"sum of cube of\",self.num,\"natural number is\",self.count)\n",
    "            except Exception as ex:\n",
    "                print(ex)\n",
    "    z = test()\n",
    "    z.cub_sum()\n",
    "\n",
    "'''"
   ]
  },
  {
   "cell_type": "code",
   "execution_count": null,
   "id": "e0db41a1",
   "metadata": {},
   "outputs": [],
   "source": []
  }
 ],
 "metadata": {
  "kernelspec": {
   "display_name": "Python 3",
   "language": "python",
   "name": "python3"
  },
  "language_info": {
   "codemirror_mode": {
    "name": "ipython",
    "version": 3
   },
   "file_extension": ".py",
   "mimetype": "text/x-python",
   "name": "python",
   "nbconvert_exporter": "python",
   "pygments_lexer": "ipython3",
   "version": "3.8.8"
  }
 },
 "nbformat": 4,
 "nbformat_minor": 5
}
