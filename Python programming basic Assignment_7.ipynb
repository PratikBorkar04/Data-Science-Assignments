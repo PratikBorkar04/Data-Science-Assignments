{
 "cells": [
  {
   "cell_type": "code",
   "execution_count": 4,
   "id": "7b77c86d",
   "metadata": {},
   "outputs": [
    {
     "name": "stdout",
     "output_type": "stream",
     "text": [
      "59\n"
     ]
    }
   ],
   "source": [
    "'''Q.1 Write a Python Program to find sum of array\n",
    "\n",
    "    import numpy as np\n",
    "    class test:\n",
    "        def sum_array(self):\n",
    "            try:\n",
    "                sample_array = np.array([1,22,32,4])\n",
    "                self.sum = 0\n",
    "                for i in sample_array:\n",
    "                    self.sum = self.sum + i\n",
    "                print(self.sum)\n",
    "            except Exception as ex:\n",
    "                print(ex)\n",
    "    z = test()\n",
    "    z.sum_array()\n",
    "\n",
    "'''"
   ]
  },
  {
   "cell_type": "code",
   "execution_count": 8,
   "id": "7c8a7fff",
   "metadata": {},
   "outputs": [
    {
     "name": "stdout",
     "output_type": "stream",
     "text": [
      "Max element in an array is:- 32\n"
     ]
    }
   ],
   "source": [
    "'''Q.2 Write a Python Program to find largest element in an array\n",
    "\n",
    "    import numpy as np\n",
    "    class test:\n",
    "        def max_array(self):\n",
    "            try:\n",
    "                sample_array = np.array([1,22,32,4])\n",
    "                self.sum = 0\n",
    "                ls = []\n",
    "                for i in sample_array:\n",
    "                    ls.append(i)\n",
    "                print('Max element in an array is:-',max(ls))\n",
    "            except Exception as ex:\n",
    "                print(ex)\n",
    "    z = test()\n",
    "    z.max_array()\n",
    "    \n",
    "'''"
   ]
  },
  {
   "cell_type": "code",
   "execution_count": 19,
   "id": "ece78cc4",
   "metadata": {},
   "outputs": [
    {
     "data": {
      "text/plain": [
       "[3, 4, 5, 6, 1, 2]"
      ]
     },
     "execution_count": 19,
     "metadata": {},
     "output_type": "execute_result"
    }
   ],
   "source": [
    "'''Q.3 Write a Python Program for array rotation\n",
    "    \n",
    "    import numpy as np\n",
    "    class test:\n",
    "        def rotation_array(self,arr,d,n):\n",
    "            try:\n",
    "                arr[:]=arr[d:n]+arr[0:d]\n",
    "                return arr\n",
    "                print(arr)\n",
    "            except Exception as ex:\n",
    "                print(ex)\n",
    "    arr = [1,2,3,4,5,6]\n",
    "    z = test()\n",
    "    z.rotation_array(arr,2,len(arr))\n",
    "    \n",
    "'''"
   ]
  },
  {
   "cell_type": "code",
   "execution_count": 23,
   "id": "77749de6",
   "metadata": {},
   "outputs": [
    {
     "data": {
      "text/plain": [
       "[2, 3, 4, 5, 6, 1]"
      ]
     },
     "execution_count": 23,
     "metadata": {},
     "output_type": "execute_result"
    }
   ],
   "source": [
    "'''Q.4 Write a Python Program to Split the array and add the first part to the end?\n",
    "\n",
    "    import numpy as np\n",
    "    class test:\n",
    "        def rotation_array(self,arr,d,n):\n",
    "            try:\n",
    "                arr[:]=arr[d:n]+arr[0:d]\n",
    "                return arr\n",
    "                print(arr)\n",
    "            except Exception as ex:\n",
    "                print(ex)\n",
    "    arr = [1,2,3,4,5,6]\n",
    "    z = test()\n",
    "    z.rotation_array(arr,1,len(arr))\n",
    "\n",
    "'''"
   ]
  },
  {
   "cell_type": "code",
   "execution_count": 35,
   "id": "57207cbd",
   "metadata": {},
   "outputs": [
    {
     "data": {
      "text/plain": [
       "True"
      ]
     },
     "execution_count": 35,
     "metadata": {},
     "output_type": "execute_result"
    }
   ],
   "source": [
    "'''Q.5 Write a Python Program to check if given array is Monotonic\n",
    "\n",
    "    class test:\n",
    "\n",
    "        def ismonotonic(self,A):\n",
    "            try:    \n",
    "                return (all(A[i] <= A[i + 1] for i in range(len(A) - 1)) or\n",
    "                        all(A[i] >= A[i + 1] for i in range(len(A) - 1)))\n",
    "            except Exception as ex:\n",
    "                    print(ex)\n",
    "\n",
    "    arr = [1,2,3,4]\n",
    "    z = test()\n",
    "    z.ismonotonic(arr)\n",
    "\n",
    "'''"
   ]
  },
  {
   "cell_type": "code",
   "execution_count": null,
   "id": "966795ec",
   "metadata": {},
   "outputs": [],
   "source": []
  }
 ],
 "metadata": {
  "kernelspec": {
   "display_name": "Python 3",
   "language": "python",
   "name": "python3"
  },
  "language_info": {
   "codemirror_mode": {
    "name": "ipython",
    "version": 3
   },
   "file_extension": ".py",
   "mimetype": "text/x-python",
   "name": "python",
   "nbconvert_exporter": "python",
   "pygments_lexer": "ipython3",
   "version": "3.8.8"
  }
 },
 "nbformat": 4,
 "nbformat_minor": 5
}
