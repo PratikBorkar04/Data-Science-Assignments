{
 "cells": [
  {
   "cell_type": "code",
   "execution_count": null,
   "id": "b8461b31",
   "metadata": {},
   "outputs": [],
   "source": [
    "'''Q.1\n",
    "    lambda returns a value that can optionally be assigned a name, \n",
    "    The def statement always assigns the new function to the name in the header\n",
    "'''"
   ]
  },
  {
   "cell_type": "code",
   "execution_count": null,
   "id": "e1c92e9b",
   "metadata": {},
   "outputs": [],
   "source": [
    "'''Q.2\n",
    "    The body of a lambda can consist of only a single expression, the result of which is returned from the function created \n",
    "'''"
   ]
  },
  {
   "cell_type": "code",
   "execution_count": null,
   "id": "aafdebfb",
   "metadata": {},
   "outputs": [],
   "source": [
    "'''Q.3\n",
    "    map(),filter(),reduce() this three are most powerful functions:-\n",
    "    1) map():-\n",
    "       a built-in function that allows you to process and transform all the items in an iterable without using an explicit for loop\n",
    "       Example:-\n",
    "            def fun(n):\n",
    "                return len(n)\n",
    "\n",
    "            ls =  map(fun,(\"Pratik\",\"Ram\",\"Piyush\"))\n",
    "            print(list(ls))\n",
    "           \n",
    "    2) filter():-\n",
    "         function is used to generate an output list of values that return true when the function is called.\n",
    "         Example:-\n",
    "             def filterdata(x):  \n",
    "                if x>5:  \n",
    "                    return x   \n",
    "            result = filter(filterdata,(1,2,6))   \n",
    "            print(list(result))  \n",
    "             \n",
    "    3) reduce():-\n",
    "        function applies a provided function to ‘iterables’ and returns a single value\n",
    "            Example:-\n",
    "            from functools import reduce\n",
    "            reduce(lambda a,b: a+b,[23,21,45,98])\n",
    "'''"
   ]
  },
  {
   "cell_type": "code",
   "execution_count": null,
   "id": "96460f90",
   "metadata": {},
   "outputs": [],
   "source": [
    " '''Q.4\n",
    "      arbitrary python expressions that are associated with various part of functions,\n",
    "      Function annotations are evaluated at compile time and have no life in python's runtime environment.\n",
    "      \n",
    "      USE:- \n",
    "         They help to understand and reason about code much more easily.\n",
    "      Example:-\n",
    "          def func(x:int ,y: int, z: int) -> int: \n",
    "            print(x + y + z)\n",
    " '''"
   ]
  },
  {
   "cell_type": "code",
   "execution_count": 47,
   "id": "b1ad9803",
   "metadata": {},
   "outputs": [
    {
     "name": "stdout",
     "output_type": "stream",
     "text": [
      "\n",
      "\n",
      "Recursion Example Results\n",
      "1\n",
      "3\n",
      "6\n",
      "10\n",
      "15\n",
      "21\n"
     ]
    },
    {
     "data": {
      "text/plain": [
       "21"
      ]
     },
     "execution_count": 47,
     "metadata": {},
     "output_type": "execute_result"
    }
   ],
   "source": [
    "'''Q.5\n",
    "    Recursion is the process of defining something in terms of itself.\n",
    "    use:-\n",
    "        A complex task can be broken down into simpler sub-problems using recursion.\n",
    "        \n",
    "    Example:-  \n",
    "        def tri_recursion(k):\n",
    "          if(k > 0):\n",
    "            result = k + tri_recursion(k - 1)\n",
    "            print(result)\n",
    "          else:\n",
    "            result = 0\n",
    "          return result\n",
    "\n",
    "        print(\"\\n\\nRecursion Example Results\")\n",
    "        tri_recursion(6)\n",
    "        \n",
    "'''"
   ]
  },
  {
   "cell_type": "code",
   "execution_count": null,
   "id": "2e274ae6",
   "metadata": {},
   "outputs": [],
   "source": [
    "'''Q.6\n",
    "    Always use a docstring to explain the functionality of the function\n",
    "    avoid using or limited use of global variables\n",
    "    Proper Identation to increase the code readability\n",
    "    try to follow a naming convention for function names (pascalCase or camelCase) and stick with the same convention throughout the application.'''"
   ]
  },
  {
   "cell_type": "code",
   "execution_count": null,
   "id": "5b491cd0",
   "metadata": {},
   "outputs": [],
   "source": [
    "'''Q.7\n",
    "    print\n",
    "    return\n",
    "    yield\n",
    "'''"
   ]
  }
 ],
 "metadata": {
  "kernelspec": {
   "display_name": "Python 3",
   "language": "python",
   "name": "python3"
  },
  "language_info": {
   "codemirror_mode": {
    "name": "ipython",
    "version": 3
   },
   "file_extension": ".py",
   "mimetype": "text/x-python",
   "name": "python",
   "nbconvert_exporter": "python",
   "pygments_lexer": "ipython3",
   "version": "3.8.8"
  }
 },
 "nbformat": 4,
 "nbformat_minor": 5
}
