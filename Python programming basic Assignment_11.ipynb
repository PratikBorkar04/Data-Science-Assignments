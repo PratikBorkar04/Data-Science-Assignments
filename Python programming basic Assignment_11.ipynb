{
 "cells": [
  {
   "cell_type": "code",
   "execution_count": 34,
   "id": "ecb672a8",
   "metadata": {},
   "outputs": [
    {
     "name": "stdout",
     "output_type": "stream",
     "text": [
      "Enter number of words :-4\n",
      "Enter 1 word\n",
      "kidsneuron\n",
      "Enter 2 word\n",
      "ineuron\n",
      "Enter 3 word\n",
      "oneneuron\n",
      "Enter 4 word\n",
      "techneuron\n",
      "Enter a length:- 8\n",
      "Words are greater than enter length :- ['kidsneuron', 'oneneuron', 'techneuron']\n"
     ]
    }
   ],
   "source": [
    "'''Q.1 Write a Python program to find words which are greater than given length k?\n",
    "\n",
    "    ls1 = [] \n",
    "    ls2 = []\n",
    "\n",
    "    a = int(input(\"Enter number of words :-\"))\n",
    "\n",
    "    for i in range(0,a):\n",
    "        print(\"Enter\",i+1,\"word\")\n",
    "        b = input()\n",
    "        ls1.append(b)\n",
    "\n",
    "    c = int(input(\"Enter a length:- \"))\n",
    "    \n",
    "    for j in range(0,len(ls1)):\n",
    "        if len(ls1[j]) > c:\n",
    "            ls2.append(ls1[j])\n",
    "\n",
    "    print(\"Words are greater than enter length :-\",ls2)\n",
    "\n",
    "'''\n"
   ]
  },
  {
   "cell_type": "code",
   "execution_count": 4,
   "id": "4c296ec7",
   "metadata": {},
   "outputs": [
    {
     "name": "stdout",
     "output_type": "stream",
     "text": [
      "Enter a string :-subscribe\n",
      "Enter i-th character:-4\n",
      "subsribe\n"
     ]
    }
   ],
   "source": [
    "'''Q.2 Write a Python program for removing i-th character from a string?\n",
    "\n",
    "ls = []\n",
    "\n",
    "a = input(\"Enter a string :-\")\n",
    "b = int(input(\"Enter i-th character:-\"))\n",
    "\n",
    "for i in a:\n",
    "    ls.append(i)\n",
    "ls.pop(b)\n",
    "\n",
    "result = \"\".join(ls)\n",
    "print(result)\n",
    "\n",
    "'''"
   ]
  },
  {
   "cell_type": "code",
   "execution_count": 17,
   "id": "617579c0",
   "metadata": {},
   "outputs": [
    {
     "name": "stdout",
     "output_type": "stream",
     "text": [
      "['ineuron', 'Data', 'Science']\n",
      "ineuron_Data_Science\n"
     ]
    }
   ],
   "source": [
    "'''Q.3 Write a Python program to split and join a string?\n",
    "\n",
    "    def join_split(string,seperator):\n",
    "        split_string = string.split(' ')\n",
    "        print(split_string)\n",
    "        print(seperator.join(split_string))\n",
    "\n",
    "    join_split(\"ineuron Data Science\",\"_\")\n",
    "\n",
    "'''"
   ]
  },
  {
   "cell_type": "code",
   "execution_count": 41,
   "id": "b0170e2c",
   "metadata": {},
   "outputs": [
    {
     "name": "stdout",
     "output_type": "stream",
     "text": [
      "Binary String\n"
     ]
    }
   ],
   "source": [
    "'''Q.4 Write a Python to check if a given string is binary string or not?\n",
    "    def check_binary(string):\n",
    "        string= set(string)\n",
    "        s = {\"0\",\"1\"}\n",
    "        if string == s:\n",
    "            print(\"Binary String\")\n",
    "        else:\n",
    "            print(\"Not binary String\")\n",
    "\n",
    "    check_binary(\"010010\")\n",
    "\n",
    "'''"
   ]
  },
  {
   "cell_type": "code",
   "execution_count": 9,
   "id": "a2d9ae57",
   "metadata": {},
   "outputs": [
    {
     "name": "stdout",
     "output_type": "stream",
     "text": [
      "['welcomes', 'you']\n"
     ]
    }
   ],
   "source": [
    "'''Q.5 Write a Python program to find uncommon words from two Strings?\n",
    "\n",
    "    def uncommon_words(s1, s2):\n",
    "        count = {}\n",
    "\n",
    "        for word in s1.split():\n",
    "            count[word] = count.get(word, 0) + 1\n",
    "\n",
    "        for word in s2.split():\n",
    "            count[word] = count.get(word, 0) + 1\n",
    "\n",
    "        return [word for word in count if count[word] == 1]\n",
    "\n",
    "    s1=\"ineuron\"\n",
    "    s2=\"ineuron welcomes you\"\n",
    "\n",
    "    print(uncommon_words(s1, s2))\n",
    "\n",
    "'''"
   ]
  },
  {
   "cell_type": "code",
   "execution_count": 14,
   "id": "259ca6dd",
   "metadata": {},
   "outputs": [
    {
     "name": "stdout",
     "output_type": "stream",
     "text": [
      "['n']\n"
     ]
    }
   ],
   "source": [
    "'''Q.6 Write a Python to find all duplicate characters in string?\n",
    "\n",
    "    def common_characters(s1):\n",
    "        count = {}\n",
    "\n",
    "        for i in s1.split():\n",
    "            for word in i:\n",
    "                count[word] = count.get(word, 0) + 1\n",
    "        return [word for word in count if count[word] > 1]\n",
    "\n",
    "    s1 = \"ineuron\"\n",
    "\n",
    "    print(common_characters(s1))\n",
    "\n",
    "'''"
   ]
  },
  {
   "cell_type": "code",
   "execution_count": 24,
   "id": "18af9324",
   "metadata": {},
   "outputs": [
    {
     "name": "stdout",
     "output_type": "stream",
     "text": [
      "Special Characters\n"
     ]
    }
   ],
   "source": [
    "''' Q 7. Write a Python Program to check if a string contains any special character?\n",
    "    import re\n",
    "    def special_characters(s1):\n",
    "            s_characters = re.compile(\"[@_!#$%^&*()<>?/\\|}{~:]\")\n",
    "            if s_characters.search(s1) != None:\n",
    "                return \"Special Characters\"\n",
    "            else:\n",
    "                return \"No Special Characters\"\n",
    "\n",
    "    s1 = \"ineuron@ai\"\n",
    "    print(special_characters(s1))\n",
    "\n",
    "'''"
   ]
  },
  {
   "cell_type": "code",
   "execution_count": null,
   "id": "3419f5ad",
   "metadata": {},
   "outputs": [],
   "source": []
  }
 ],
 "metadata": {
  "kernelspec": {
   "display_name": "Python 3",
   "language": "python",
   "name": "python3"
  },
  "language_info": {
   "codemirror_mode": {
    "name": "ipython",
    "version": 3
   },
   "file_extension": ".py",
   "mimetype": "text/x-python",
   "name": "python",
   "nbconvert_exporter": "python",
   "pygments_lexer": "ipython3",
   "version": "3.8.8"
  }
 },
 "nbformat": 4,
 "nbformat_minor": 5
}
