{
 "cells": [
  {
   "cell_type": "code",
   "execution_count": 4,
   "id": "a80e88a9",
   "metadata": {},
   "outputs": [
    {
     "name": "stdout",
     "output_type": "stream",
     "text": [
      "Enter a number :- 5\n",
      "Factorial of 5 is :- 120\n"
     ]
    }
   ],
   "source": [
    "'''Q.1 Write a Python Program to Find the Factorial of a Number\n",
    "\n",
    "    from input_user import input_number\n",
    "\n",
    "    class test:\n",
    "        def factorial(self):    \n",
    "            try:\n",
    "                self.num = input_number().int_input()\n",
    "                fact = 1\n",
    "                for i in range(1,self.num + 1):\n",
    "                      fact = fact * i\n",
    "                print(\"Factorial of\",self.num,'is :-',fact)\n",
    "            except Exception as ex:\n",
    "                print(ex)\n",
    "\n",
    "    z = test()\n",
    "    z.factorial()\n",
    "\n",
    "'''"
   ]
  },
  {
   "cell_type": "code",
   "execution_count": 11,
   "id": "312dd6d2",
   "metadata": {},
   "outputs": [
    {
     "name": "stdout",
     "output_type": "stream",
     "text": [
      "Enter a number :- 5\n",
      "\n",
      "Table of 5 \n",
      "\n",
      "5 X 1 = 5\n",
      "5 X 2 = 10\n",
      "5 X 3 = 15\n",
      "5 X 4 = 20\n",
      "5 X 5 = 25\n",
      "5 X 6 = 30\n",
      "5 X 7 = 35\n",
      "5 X 8 = 40\n",
      "5 X 9 = 45\n",
      "5 X 10 = 50\n"
     ]
    }
   ],
   "source": [
    "'''Q.2 Write a Python Program to Display the multiplication Table\n",
    "\n",
    "    from input_user import input_number\n",
    "\n",
    "    class test:\n",
    "        def multiplication_table(self):\n",
    "            try:\n",
    "                self.num = input_number().int_input()\n",
    "                print('\\nTable of',self.num,'\\n')\n",
    "                for i in range(1,11):\n",
    "                    print(self.num,\"X\",i,'=',(self.num * i))\n",
    "            except Exception as ex:\n",
    "                print(ex)\n",
    "\n",
    "    z = test()\n",
    "    z.multiplication_table()\n",
    "\n",
    "'''"
   ]
  },
  {
   "cell_type": "code",
   "execution_count": 18,
   "id": "c9eda01b",
   "metadata": {},
   "outputs": [
    {
     "name": "stdout",
     "output_type": "stream",
     "text": [
      "Enter a number :- 9\n",
      "0\n",
      "1\n",
      "1\n",
      "2\n",
      "3\n",
      "5\n",
      "8\n",
      "13\n",
      "21\n"
     ]
    }
   ],
   "source": [
    "'''Q.3 Write a Python Program to Print the Fibonacci sequence\n",
    "\n",
    "from input_user import input_number\n",
    "\n",
    "    class test:\n",
    "        def fibonacci_series(self):\n",
    "            self.n1 = 0\n",
    "            self.n2 = 1\n",
    "            self.count = 0\n",
    "            try:\n",
    "                self.num = input_number().int_input()\n",
    "                while self.count < self.num:\n",
    "                    print(self.n1)\n",
    "                    self.nth = self.n1 + self.n2\n",
    "                    self.n1 = self.n2\n",
    "                    self.n2 = self.nth\n",
    "                    self.count = self.count + 1\n",
    "            except Exception as ex:\n",
    "                print(ex)\n",
    "\n",
    "    z = test()\n",
    "    z.fibonacci_series()\n",
    "\n",
    "'''"
   ]
  },
  {
   "cell_type": "code",
   "execution_count": 30,
   "id": "db92229a",
   "metadata": {},
   "outputs": [
    {
     "name": "stdout",
     "output_type": "stream",
     "text": [
      "Enter a number :- 153\n",
      "153 is an Amstrong number\n"
     ]
    }
   ],
   "source": [
    "'''Q.4 Write a Python Program to Check Armstrong Number\n",
    "\n",
    "    from input_user import input_number\n",
    "\n",
    "    class test:\n",
    "        def amstrong_numer(self):\n",
    "            try:\n",
    "                self.num = input_number().int_input()\n",
    "                self.sum = 0\n",
    "\n",
    "                self.temp = self.num\n",
    "                while self.temp > 0:\n",
    "                    self.digit = self.temp % 10\n",
    "                    self.sum = self.sum + self.digit **3\n",
    "                    self.temp //= 10\n",
    "\n",
    "                if (self.num == self.sum):\n",
    "                    print(self.num,\"is an Amstrong number\")\n",
    "                else:\n",
    "                    print(self.num,\"is not an Amstrong number\")\n",
    "\n",
    "            except Exception as ex:\n",
    "                print(ex)\n",
    "\n",
    "    z = test()\n",
    "    z.amstrong_numer()\n",
    "    \n",
    "'''"
   ]
  },
  {
   "cell_type": "code",
   "execution_count": 38,
   "id": "d80467ab",
   "metadata": {},
   "outputs": [
    {
     "name": "stdout",
     "output_type": "stream",
     "text": [
      "153 is an Amstrong number\n",
      "370 is an Amstrong number\n",
      "371 is an Amstrong number\n",
      "407 is an Amstrong number\n"
     ]
    }
   ],
   "source": [
    "''' Q.5 Write a Python Program to Find Armstrong Number in an Interval\n",
    "    class test:\n",
    "            def amstrong_number(self):\n",
    "                try:\n",
    "                    for i in range(100,1000):\n",
    "                        self.length = len(str(i))\n",
    "                        self.sum = 0\n",
    "                        self.temp = i\n",
    "                        while self.temp > 0:\n",
    "                            self.digit = self.temp % 10\n",
    "                            self.sum = self.sum + self.digit **self.length\n",
    "                            self.temp //= 10\n",
    "\n",
    "                        if (i == self.sum):\n",
    "                            print(i,\"is an Amstrong number\")\n",
    "\n",
    "                except Exception as ex:\n",
    "                    print(ex)\n",
    "\n",
    "    z = test()\n",
    "    z.amstrong_number()\n",
    "'''"
   ]
  },
  {
   "cell_type": "code",
   "execution_count": 53,
   "id": "ca5dae58",
   "metadata": {},
   "outputs": [
    {
     "name": "stdout",
     "output_type": "stream",
     "text": [
      "Enter a number :- 100\n",
      "Sum = 5050\n"
     ]
    }
   ],
   "source": [
    "'''Q.6 Write a Python Program to Find the Sum of Natural Numbers\n",
    "\n",
    "    from input_user import input_number\n",
    "\n",
    "    class test:\n",
    "                def natural_number(self):\n",
    "                    try:\n",
    "                        self.sum = input_number().int_input()\n",
    "                        if self.sum < 0:\n",
    "                            print(\"Enter Positive number\")\n",
    "                        else:\n",
    "                            for i in range(1,self.sum):\n",
    "                                    self.sum = self.sum + i\n",
    "                            print(\"Sum =\",self.sum)\n",
    "                    except Exception as ex:\n",
    "                        print(ex)\n",
    "\n",
    "    z = test()\n",
    "    z.natural_number()\n",
    "\n",
    "'''"
   ]
  },
  {
   "cell_type": "code",
   "execution_count": null,
   "id": "ab491019",
   "metadata": {},
   "outputs": [],
   "source": []
  }
 ],
 "metadata": {
  "kernelspec": {
   "display_name": "Python 3",
   "language": "python",
   "name": "python3"
  },
  "language_info": {
   "codemirror_mode": {
    "name": "ipython",
    "version": 3
   },
   "file_extension": ".py",
   "mimetype": "text/x-python",
   "name": "python",
   "nbconvert_exporter": "python",
   "pygments_lexer": "ipython3",
   "version": "3.8.8"
  }
 },
 "nbformat": 4,
 "nbformat_minor": 5
}
