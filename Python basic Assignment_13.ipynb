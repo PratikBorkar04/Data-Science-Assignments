{
 "cells": [
  {
   "cell_type": "code",
   "execution_count": null,
   "id": "62f85b85",
   "metadata": {},
   "outputs": [],
   "source": [
    "'''Q.1\n",
    "    Reading large files user is much easier in Excel for the end user. \n",
    "    Also, you can have additional functions like selecting individual cells for import, \n",
    "    convert dates and time.\n",
    "'''"
   ]
  },
  {
   "cell_type": "code",
   "execution_count": null,
   "id": "94cd732b",
   "metadata": {},
   "outputs": [],
   "source": [
    "'''Q.2\n",
    "    reader = call open()\n",
    "    writer = call open() with write mode\n",
    "'''"
   ]
  },
  {
   "cell_type": "code",
   "execution_count": null,
   "id": "d7aeb302",
   "metadata": {},
   "outputs": [],
   "source": [
    "'''Q.3\n",
    "    reader = default mode\n",
    "    writer = \"w\" (write) mode\n",
    "'''"
   ]
  },
  {
   "cell_type": "code",
   "execution_count": null,
   "id": "ddc19a41",
   "metadata": {},
   "outputs": [],
   "source": [
    "'''Q.4\n",
    "    csv.writer.writerow()\n",
    "'''"
   ]
  },
  {
   "cell_type": "code",
   "execution_count": null,
   "id": "e61b55ad",
   "metadata": {},
   "outputs": [],
   "source": [
    "'''Q.5\n",
    "    delimiter for a CSV file is a comma.\n",
    "    The line terminator is a newline.\n",
    "'''"
   ]
  },
  {
   "cell_type": "code",
   "execution_count": null,
   "id": "ead7b265",
   "metadata": {},
   "outputs": [],
   "source": [
    "'''Q.6\n",
    "    loads()\n",
    "'''"
   ]
  },
  {
   "cell_type": "code",
   "execution_count": null,
   "id": "cefce678",
   "metadata": {},
   "outputs": [],
   "source": [
    "'''Q.7\n",
    "    dumps()\n",
    "'''"
   ]
  },
  {
   "cell_type": "code",
   "execution_count": null,
   "id": "02480ef4",
   "metadata": {},
   "outputs": [],
   "source": []
  }
 ],
 "metadata": {
  "kernelspec": {
   "display_name": "Python 3",
   "language": "python",
   "name": "python3"
  },
  "language_info": {
   "codemirror_mode": {
    "name": "ipython",
    "version": 3
   },
   "file_extension": ".py",
   "mimetype": "text/x-python",
   "name": "python",
   "nbconvert_exporter": "python",
   "pygments_lexer": "ipython3",
   "version": "3.8.8"
  }
 },
 "nbformat": 4,
 "nbformat_minor": 5
}
