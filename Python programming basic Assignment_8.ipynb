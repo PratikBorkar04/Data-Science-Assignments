{
 "cells": [
  {
   "cell_type": "code",
   "execution_count": 7,
   "id": "61c23492",
   "metadata": {},
   "outputs": [
    {
     "name": "stdout",
     "output_type": "stream",
     "text": [
      "[11, 13, 15]\n",
      "[18, 21, 23]\n",
      "[25, 27, 29]\n"
     ]
    }
   ],
   "source": [
    "#Q.1 Write a Python Program to Add Two Matrices?\n",
    "'''\n",
    "    x = [[1,2,3],\n",
    "        [4,5,6],\n",
    "        [7,8,9]]\n",
    "\n",
    "    y = [[10,11,12],\n",
    "        [14,16,17],\n",
    "        [18,19,20]]\n",
    "\n",
    "    result = [[0,0,0],\n",
    "             [0,0,0],\n",
    "             [0,0,0]]\n",
    "\n",
    "    for i in range(len(x)):\n",
    "        for j in range(len(x[0])):\n",
    "            result[i][j] = x[i][j] + y[i][j]\n",
    "\n",
    "    for k in result:\n",
    "        print(k)\n",
    "'''"
   ]
  },
  {
   "cell_type": "code",
   "execution_count": 8,
   "id": "8fb49582",
   "metadata": {},
   "outputs": [
    {
     "name": "stdout",
     "output_type": "stream",
     "text": [
      "[10, 22, 36]\n",
      "[56, 80, 102]\n",
      "[126, 152, 180]\n"
     ]
    }
   ],
   "source": [
    "#Q.2 Write a Python Program to Multiply Two Matrices?\n",
    "\n",
    "'''\n",
    "    x = [[1,2,3],\n",
    "        [4,5,6],\n",
    "        [7,8,9]]\n",
    "\n",
    "    y = [[10,11,12],\n",
    "        [14,16,17],\n",
    "        [18,19,20]]\n",
    "\n",
    "    result = [[0,0,0],\n",
    "             [0,0,0],\n",
    "             [0,0,0]]\n",
    "\n",
    "    for i in range(len(x)):\n",
    "        for j in range(len(x[0])):\n",
    "            result[i][j] = x[i][j] * y[i][j]\n",
    "\n",
    "    for k in result:\n",
    "        print(k)\n",
    "    \n",
    "'''"
   ]
  },
  {
   "cell_type": "code",
   "execution_count": 10,
   "id": "edae9133",
   "metadata": {},
   "outputs": [
    {
     "name": "stdout",
     "output_type": "stream",
     "text": [
      "[1, 4, 7]\n",
      "[2, 5, 8]\n",
      "[3, 6, 9]\n"
     ]
    }
   ],
   "source": [
    "#Q.3 Write a Python Program to Transpose a Matrix??\n",
    "\n",
    "'''\n",
    "x = [[1,2,3],\n",
    "    [4,5,6],\n",
    "    [7,8,9]]\n",
    "\n",
    "result = [[0,0,0],\n",
    "         [0,0,0],\n",
    "         [0,0,0]]\n",
    "\n",
    "for i in range(len(x)):\n",
    "    for j in range(len(x[0])):\n",
    "        result[j][i] = x[i][j] \n",
    "        \n",
    "for k in result:\n",
    "    print(k)\n",
    "    \n",
    "'''"
   ]
  },
  {
   "cell_type": "code",
   "execution_count": 15,
   "id": "6005856b",
   "metadata": {},
   "outputs": [
    {
     "name": "stdout",
     "output_type": "stream",
     "text": [
      "Enter a string ineuron is the best\n",
      "best\n",
      "ineuron\n",
      "is\n",
      "the\n"
     ]
    }
   ],
   "source": [
    "#Q.4 Write a Python Program to Sort Words in Alphabetic Order?\n",
    "'''\n",
    "    a = input(\"Enter a string \")\n",
    "\n",
    "    sort_word = a.split()\n",
    "\n",
    "    sort_word.sort()\n",
    "\n",
    "    for i in sort_word:\n",
    "        print(i)\n",
    "    \n",
    "'''\n",
    "    "
   ]
  },
  {
   "cell_type": "code",
   "execution_count": 19,
   "id": "b2e0d15a",
   "metadata": {},
   "outputs": [
    {
     "name": "stdout",
     "output_type": "stream",
     "text": [
      "Enter a string:- xyz......#@$!$<>\n",
      "\n",
      "String after punctuation :- xyz\n"
     ]
    }
   ],
   "source": [
    "#Q.5 Write a Python Program to Remove Punctuation From a String?\n",
    "\n",
    "'''\n",
    "    a = input(\"Enter a string:- \")\n",
    "\n",
    "    punctuations = '''!()-[]{};:'\"\\,<>./?@#$%^&*_~'''\n",
    "\n",
    "    for i in a:\n",
    "        if i in punctuations:\n",
    "            a = a.replace(i,\"\")\n",
    "    print(\"\\nString after punctuation :-\",a)\n",
    "\n",
    "'''"
   ]
  },
  {
   "cell_type": "code",
   "execution_count": null,
   "id": "386bb060",
   "metadata": {},
   "outputs": [],
   "source": []
  }
 ],
 "metadata": {
  "kernelspec": {
   "display_name": "Python 3",
   "language": "python",
   "name": "python3"
  },
  "language_info": {
   "codemirror_mode": {
    "name": "ipython",
    "version": 3
   },
   "file_extension": ".py",
   "mimetype": "text/x-python",
   "name": "python",
   "nbconvert_exporter": "python",
   "pygments_lexer": "ipython3",
   "version": "3.8.8"
  }
 },
 "nbformat": 4,
 "nbformat_minor": 5
}
