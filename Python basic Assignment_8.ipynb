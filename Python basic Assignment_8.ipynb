{
 "cells": [
  {
   "cell_type": "code",
   "execution_count": null,
   "id": "7248dfb6",
   "metadata": {},
   "outputs": [],
   "source": [
    "pip install PyInputPlus"
   ]
  },
  {
   "cell_type": "code",
   "execution_count": null,
   "id": "42626e28",
   "metadata": {},
   "outputs": [],
   "source": [
    "'''Q.1\n",
    "    PyInputPlus is not included in the python standard library.\n",
    "'''"
   ]
  },
  {
   "cell_type": "code",
   "execution_count": null,
   "id": "27c65992",
   "metadata": {},
   "outputs": [],
   "source": [
    "'''Q.2\n",
    "    PYIP is an alias , where we can input shorter form of pyInputPlus\n",
    "'''"
   ]
  },
  {
   "cell_type": "code",
   "execution_count": null,
   "id": "6046cd40",
   "metadata": {},
   "outputs": [],
   "source": [
    "'''Q.3\n",
    "    inputInt() :- Accepts an integer value.\n",
    "    inputFloat() :- Accepts a floating point numeric value\n",
    "'''"
   ]
  },
  {
   "cell_type": "code",
   "execution_count": null,
   "id": "ebfafe9b",
   "metadata": {},
   "outputs": [],
   "source": [
    "'''Q.4\n",
    "    import pyinputplus as pyip\n",
    "  \n",
    "    inp = pyip.inputInt(prompt = \"Enter an Integer... \",\n",
    "                        min = 0, lessThan = 99 )\n",
    "\n",
    "    print(inp)\n",
    "'''"
   ]
  },
  {
   "cell_type": "code",
   "execution_count": null,
   "id": "4e40c6c6",
   "metadata": {},
   "outputs": [],
   "source": [
    "'''Q.5\n",
    "    blockRegex = It is used to block regex pattern we want to invalid\n",
    "    allowregex = It is used to block regex pattern we want to invalid.\n",
    "    \n",
    "    We transfer regex arguments to allow/block regex\n",
    "'''"
   ]
  },
  {
   "cell_type": "code",
   "execution_count": null,
   "id": "24a21877",
   "metadata": {},
   "outputs": [],
   "source": [
    "'''Q.6\n",
    "    if we provide blank input three times then inputstr(limit = 3) generates validation Exception \n",
    "'''"
   ]
  },
  {
   "cell_type": "code",
   "execution_count": null,
   "id": "3ac58cef",
   "metadata": {},
   "outputs": [],
   "source": [
    "'''Q.7\n",
    "    If blank input is entered three times, inputStr(limit=3, default='hello') \n",
    "    \n",
    "    After three blank inputs it will print('hello') , because we set default = 'hello'\n",
    "    \n",
    "'''"
   ]
  },
  {
   "cell_type": "code",
   "execution_count": null,
   "id": "02337008",
   "metadata": {},
   "outputs": [],
   "source": []
  }
 ],
 "metadata": {
  "kernelspec": {
   "display_name": "Python 3",
   "language": "python",
   "name": "python3"
  },
  "language_info": {
   "codemirror_mode": {
    "name": "ipython",
    "version": 3
   },
   "file_extension": ".py",
   "mimetype": "text/x-python",
   "name": "python",
   "nbconvert_exporter": "python",
   "pygments_lexer": "ipython3",
   "version": "3.8.8"
  }
 },
 "nbformat": 4,
 "nbformat_minor": 5
}
